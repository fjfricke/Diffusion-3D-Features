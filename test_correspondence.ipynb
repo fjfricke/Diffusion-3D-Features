{
 "cells": [
  {
   "cell_type": "code",
   "execution_count": 2,
   "metadata": {},
   "outputs": [
    {
     "name": "stdout",
     "output_type": "stream",
     "text": [
      "No GPU available, falling back to CPU.\n"
     ]
    }
   ],
   "source": [
    "import torch\n",
    "\n",
    "if torch.cuda.is_available():\n",
    "    device = torch.device(\"cuda:0\")\n",
    "    print(\"Using GPU\")\n",
    "else:\n",
    "    device = torch.device(\"cpu\")\n",
    "    print(\"No GPU available, falling back to CPU.\")\n"
   ]
  },
  {
   "cell_type": "code",
   "execution_count": null,
   "metadata": {},
   "outputs": [
    {
     "name": "stdout",
     "output_type": "stream",
     "text": [
      "Loading file: meshes/posed_human.off\n",
      "Starting batch_render with num_views=2, H=128, W=128\n",
      "Rendering completed successfully\n",
      "Starting batch_render with num_views=2, H=128, W=128\n",
      "Rendering completed successfully\n",
      "Video saved to mesh_videos/posed_human_combined.mp4\n"
     ]
    }
   ],
   "source": [
    "from mesh_video_generator import MeshVideoGenerator\n",
    "\n",
    "generator = MeshVideoGenerator(\n",
    "    output_dir=\"mesh_videos\",\n",
    "    hw=128,\n",
    "    num_views=2,\n",
    "    use_normal_map=True,\n",
    "    device=device\n",
    ")\n",
    "\n",
    "# Process all meshes in a folder\n",
    "# generator.process_folder(\"meshes\", display_frames=False)\n",
    "\n",
    "# For a single mesh at index 5:\n",
    "generator.process_single_mesh(\"meshes\", index=5)"
   ]
  }
 ],
 "metadata": {
  "kernelspec": {
   "display_name": "diff3f",
   "language": "python",
   "name": "python3"
  },
  "language_info": {
   "codemirror_mode": {
    "name": "ipython",
    "version": 3
   },
   "file_extension": ".py",
   "mimetype": "text/x-python",
   "name": "python",
   "nbconvert_exporter": "python",
   "pygments_lexer": "ipython3",
   "version": "3.10.16"
  }
 },
 "nbformat": 4,
 "nbformat_minor": 2
}
