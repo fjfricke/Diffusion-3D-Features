{
 "cells": [
  {
   "cell_type": "code",
   "execution_count": null,
   "metadata": {},
   "outputs": [],
   "source": [
    "import torch\n",
    "\n",
    "if torch.backends.mps.is_available():\n",
    "    device = torch.device(\"mps\")\n",
    "    print(\"Using MPS\")\n",
    "elif torch.cuda.is_available():\n",
    "    device = torch.device(\"cuda:0\")\n",
    "    print(\"Using GPU\")\n",
    "else:\n",
    "    device = torch.device(\"cpu\")\n",
    "    print(\"No GPU/MPS available, falling back to CPU.\")\n",
    "\n",
    "from utils import cosine_similarity, double_plot, get_colors\n",
    "from diffusion import init_pipe\n",
    "from dino import init_dino\n",
    "from sam2_setup import init_sam2\n",
    "from utils import compute_features, load_mesh\n",
    "import numpy as np"
   ]
  },
  {
   "cell_type": "code",
   "execution_count": 2,
   "metadata": {},
   "outputs": [],
   "source": [
    "num_views = 50\n",
    "H = 512\n",
    "W = 512\n",
    "tolerance = 0.004\n",
    "use_normal_map = True\n",
    "num_images_per_prompt = 1\n",
    "bq = True\n",
    "use_sam = False #if False -> use DINO\n",
    "use_only_diffusion = False\n",
    "use_diffusion = False\n",
    "is_tosca = False\n",
    "tex = False"
   ]
  },
  {
   "cell_type": "code",
   "execution_count": null,
   "metadata": {},
   "outputs": [],
   "source": [
    "# !mkdir -p data/checkpoints\n",
    "# !wget -P data/checkpoints https://dl.fbaipublicfiles.com/segment_anything_2/092824/sam2.1_hiera_large.pt\n",
    "sam_model = init_sam2(device)\n",
    "pipe = init_pipe(device)\n",
    "dino_model = init_dino(device)"
   ]
  },
  {
   "cell_type": "code",
   "execution_count": null,
   "metadata": {},
   "outputs": [],
   "source": [
    "# please download the data from here into the data folder: https://drive.google.com/drive/folders/1C6lFfCbwQqxlvUE8niVfbeIzeblCnXcx?usp=share_link\n",
    "# pip install gdown && gdown --folder https://drive.google.com/drive/folders/1C6lFfCbwQqxlvUE8niVfbeIzeblCnXcx?usp=share_link\n",
    "\n",
    "source_object_name = \"hippo\" # file name .obj\n",
    "source_file_path = f\"data/SHREC20b_lores/models/{source_object_name}.obj\"\n",
    "source_file_path_tex = f\"data/SHREC20b_lores_tex/{source_object_name}_tex/{source_object_name}_tex.obj\"\n",
    "source_prompt = \"hippo\" # prompt for diffusion (e.g. camel instead of camel_a)\n",
    "\n",
    "target_object_name = \"cow\"\n",
    "target_file_path = f\"data/SHREC20b_lores/models/{target_object_name}.obj\"\n",
    "target_file_path_tex = f\"data/SHREC20b_lores_tex/{target_object_name}_tex/{target_object_name}_tex.obj\"\n",
    "target_prompt = \"cow\"\n",
    "\n",
    "\n",
    "source_mesh = load_mesh(source_file_path, device)\n",
    "target_mesh = load_mesh(target_file_path, device)\n",
    "print()\n",
    "source_tex_mesh = load_mesh(source_file_path_tex, device)\n",
    "target_tex_mesh = load_mesh(target_file_path_tex, device)"
   ]
  },
  {
   "cell_type": "code",
   "execution_count": null,
   "metadata": {},
   "outputs": [],
   "source": [
    "# save_path = f\"data/rendered_meshes/{source_object_name}_rendered.pt\" used for DINO Tracker pipeline\n",
    "save_path = None\n",
    "f_source = compute_features(device, sam_model, dino_model, pipe, source_mesh, source_prompt, num_views, H, W, tolerance, \n",
    "    save_path, use_normal_map, tex, source_tex_mesh, num_images_per_prompt, bq, \n",
    "    use_sam, use_only_diffusion, use_diffusion, is_tosca)\n",
    "print()\n",
    "\n",
    "# save_path = f\"data/rendered_meshes/{target_object_name}_rendered.pt\"\n",
    "save_path = None\n",
    "f_target = compute_features(device, sam_model, dino_model, pipe, target_mesh, target_prompt, num_views, H, W, tolerance, \n",
    "    save_path, use_normal_map, tex, target_tex_mesh, num_images_per_prompt, bq, \n",
    "    use_sam, use_only_diffusion, use_diffusion, is_tosca)"
   ]
  },
  {
   "cell_type": "code",
   "execution_count": null,
   "metadata": {},
   "outputs": [],
   "source": [
    "# plot and save correspondence map\n",
    "\n",
    "s = cosine_similarity(f_source.to(device),f_target.to(device))\n",
    "s = torch.argmax(s, dim=0).cpu().numpy()\n",
    "\n",
    "cmap_target = get_colors(target_mesh.vert); cmap_source = cmap_target[s]\n",
    "\n",
    "save_path = f\"{target_object_name}_to_{source_object_name}_plot.html\"\n",
    "double_plot(target_mesh, source_mesh, cmap_target, cmap_source, save_path=save_path, show=True)"
   ]
  },
  {
   "cell_type": "code",
   "execution_count": null,
   "metadata": {},
   "outputs": [],
   "source": [
    "# evaluate correspondence quantitatively\n",
    "\n",
    "from eval import evaluate_meshes\n",
    "\n",
    "s = cosine_similarity(f_target.to(device),f_source.to(device))\n",
    "s = torch.argmax(s, dim=0).cpu().numpy()\n",
    "np.save('predicted_mapping.npy', s)\n",
    "\n",
    "avg_error, accuracy, distances = evaluate_meshes(\n",
    "    source_file_path = source_file_path,\n",
    "    target_file_path = target_file_path,\n",
    "    source_gt_path = f'data/SHREC20b_lores_gts/{source_object_name}.mat',\n",
    "    target_gt_path = f'data/SHREC20b_lores_gts/{target_object_name}.mat',\n",
    "    mapping_path = 'predicted_mapping.npy', \n",
    "    debug=False\n",
    ")\n",
    "\n",
    "avg_error = f\"{avg_error:.2f}\".replace(\".\", \",\")  \n",
    "accuracy = f\"{accuracy * 100:.2f}\".replace(\".\", \",\")\n",
    "\n",
    "print(f\"Average correspondence error (err): {avg_error}\")\n",
    "print(f\"Correspondence accuracy (acc, γ=1%): {accuracy}%\")"
   ]
  },
  {
   "cell_type": "code",
   "execution_count": null,
   "metadata": {},
   "outputs": [],
   "source": [
    "# runs evaluation on all pairs in specified test set file\n",
    "\n",
    "from eval_batch import run_batch_evaluation\n",
    "\n",
    "# SHREC20b_lores/test-sets/\n",
    "# test-set0.txt - partial-to-full scans\n",
    "# test-set1.txt - full-to-full highest isometry\n",
    "# test-set2.txt - full-to-full high isometry\n",
    "# test-set3.txt - full-to-full low isometry\n",
    "# test-set4.txt - full-to-full lowest isometry\n",
    "# test-set5.txt - combines all test sets\n",
    "\n",
    "results = run_batch_evaluation(\n",
    "        pairs_file='data/SHREC20b_lores/test-sets/test-set5.txt',\n",
    "        base_path=\"data/SHREC20b_lores\",\n",
    "        device=device,\n",
    "        sam_model=sam_model,\n",
    "        dino_model=dino_model,\n",
    "        pipe=pipe,\n",
    "        source_mesh=None,\n",
    "        source_prompt=None,\n",
    "        num_views=50,\n",
    "        H=512,\n",
    "        W=512,\n",
    "        tolerance=0.004,\n",
    "        save_path=None,\n",
    "        use_normal_map=True,\n",
    "        tex=False,\n",
    "        source_tex_mesh=None,\n",
    "        num_images_per_prompt=1,\n",
    "        bq=True,\n",
    "        use_sam=False,\n",
    "        use_only_diffusion=False,\n",
    "        use_diffusion=True,\n",
    "        is_tosca=False\n",
    "    )"
   ]
  },
  {
   "cell_type": "markdown",
   "metadata": {},
   "source": [
    "# Evaluate the Dino-Tracker pipeline"
   ]
  },
  {
   "cell_type": "markdown",
   "metadata": {},
   "source": [
    "from eval_batch_dinotracker import run_batch_evaluation\n",
    "\n",
    "results = run_batch_evaluation(\n",
    "        pairs_file='data/SHREC20b_lores/test-sets/test-set5.txt',\n",
    "        base_path=\"data/SHREC20b_lores\",\n",
    "        device=device,\n",
    "        num_views=50,\n",
    "        H=512,\n",
    "        W=512,\n",
    "        tolerance=0.004,\n",
    "        use_normal_map=True,\n",
    "        bq=True,\n",
    "        is_tex=True,  # set true to use texturized image output from dino-tracker\n",
    "        dinotracker_path=\"/workspace/dino-tracker/dataset\",  # set to path where output for dinotracker is stored\n",
    "        use_only_dino=True  # set true to use only dino features for correspondence, False to use dinotracker\n",
    "    )"
   ]
  }
 ],
 "metadata": {
  "kernelspec": {
   "display_name": "diff3f",
   "language": "python",
   "name": "python3"
  },
  "language_info": {
   "codemirror_mode": {
    "name": "ipython",
    "version": 3
   },
   "file_extension": ".py",
   "mimetype": "text/x-python",
   "name": "python",
   "nbconvert_exporter": "python",
   "pygments_lexer": "ipython3",
   "version": "3.10.15"
  }
 },
 "nbformat": 4,
 "nbformat_minor": 2
}
