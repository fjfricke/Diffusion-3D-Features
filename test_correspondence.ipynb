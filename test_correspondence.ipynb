{
 "cells": [
  {
   "cell_type": "code",
   "execution_count": null,
   "metadata": {},
   "outputs": [],
   "source": [
    "import torch\n",
    "\n",
    "if torch.cuda.is_available():\n",
    "    device = torch.device(\"cuda:0\")\n",
    "    print(\"Using GPU\")\n",
    "else:\n",
    "    device = torch.device(\"cpu\")\n",
    "    print(\"No GPU available, falling back to CPU.\")\n"
   ]
  },
  {
   "cell_type": "code",
   "execution_count": null,
   "metadata": {},
   "outputs": [],
   "source": [
    "from mesh_video_generator import MeshVideoGenerator\n",
    "hw = 128\n",
    "num_views = 2\n",
    "\n",
    "generator = MeshVideoGenerator(\n",
    "    output_dir=\"mesh_videos\",\n",
    "    hw=hw,\n",
    "    num_views=num_views,\n",
    "    use_normal_map=True,\n",
    "    device=device\n",
    ")\n",
    "# generator.process_folder(\"meshes\", display_frames=False)\n",
    "generator.process_single_mesh(\"meshes\", index=5)\n",
    "\n",
    "\n",
    "generator = MeshVideoGenerator(\n",
    "    output_dir=\"SHREC19_videos\",\n",
    "    hw=hw,\n",
    "    num_views=num_views,\n",
    "    use_normal_map=True,\n",
    "    device=device\n",
    ")\n",
    "generator.process_single_mesh(\"SHREC19_MH_dataset\", index=5)\n",
    "\n",
    "\n",
    "generator = MeshVideoGenerator(\n",
    "    output_dir=\"SHREC20_videos\",\n",
    "    hw=hw,\n",
    "    num_views=num_views,\n",
    "    use_normal_map=True,\n",
    "    device=device\n",
    ")\n",
    "generator.process_single_mesh(\"SHREC20b_hires/models\", index=5)\n",
    "\n",
    "\n",
    "generator = MeshVideoGenerator(\n",
    "    output_dir=\"FAUST_videos\",\n",
    "    hw=hw,\n",
    "    num_views=num_views,\n",
    "    use_normal_map=True,\n",
    "    device=device\n",
    ")\n",
    "generator.process_single_mesh(\"MPI-FAUST/training/scans\", index=5)\n",
    "\n"
   ]
  }
 ],
 "metadata": {
  "kernelspec": {
   "display_name": "diff3f",
   "language": "python",
   "name": "python3"
  },
  "language_info": {
   "codemirror_mode": {
    "name": "ipython",
    "version": 3
   },
   "file_extension": ".py",
   "mimetype": "text/x-python",
   "name": "python",
   "nbconvert_exporter": "python",
   "pygments_lexer": "ipython3",
   "version": "3.10.16"
  }
 },
 "nbformat": 4,
 "nbformat_minor": 2
}
