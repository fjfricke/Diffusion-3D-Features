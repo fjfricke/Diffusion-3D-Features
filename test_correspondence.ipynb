{
 "cells": [
  {
   "cell_type": "code",
   "execution_count": null,
   "metadata": {},
   "outputs": [],
   "source": [
    "import torch\n",
    "\n",
    "if torch.backends.mps.is_available():\n",
    "    device = torch.device(\"mps\")\n",
    "    print(\"Using MPS\")\n",
    "elif torch.cuda.is_available():\n",
    "    device = torch.device(\"cuda:0\")\n",
    "    print(\"Using GPU\")\n",
    "else:\n",
    "    device = torch.device(\"cpu\")\n",
    "    print(\"No GPU/MPS available, falling back to CPU.\")\n",
    "\n",
    "from diffusion import init_pipe\n",
    "from utils import cosine_similarity, double_plot, get_colors\n",
    "from dataloaders.mesh_container import MeshContainer\n",
    "from dino import init_dino\n",
    "from sam2_setup import init_sam2\n",
    "from pytorch3d.io import load_objs_as_meshes\n",
    "from utils import compute_features\n",
    "import numpy as np"
   ]
  },
  {
   "cell_type": "code",
   "execution_count": 2,
   "metadata": {},
   "outputs": [],
   "source": [
    "num_views = 50\n",
    "H = 512\n",
    "W = 512\n",
    "tolerance = 0.004\n",
    "use_normal_map = True\n",
    "num_images_per_prompt = 1\n",
    "bq = True\n",
    "use_sam = False\n",
    "use_only_diffusion = False\n",
    "use_diffusion = True\n",
    "is_tosca = False\n",
    "\n",
    "save_path='rendered_mesh_output.pt' # if not None, save batched_renderings, normal_batched_renderings, camera, depth to 'rendered_mesh_output.pt'"
   ]
  },
  {
   "cell_type": "code",
   "execution_count": null,
   "metadata": {},
   "outputs": [],
   "source": [
    "# !mkdir -p data/checkpoints\n",
    "# !wget -P data/checkpoints https://dl.fbaipublicfiles.com/segment_anything_2/092824/sam2.1_hiera_large.pt\n",
    "sam_model = init_sam2(device)\n",
    "pipe = init_pipe(device)\n",
    "dino_model = init_dino(device)"
   ]
  },
  {
   "cell_type": "code",
   "execution_count": 4,
   "metadata": {},
   "outputs": [],
   "source": [
    "# please download the data from here into the data folder: https://drive.google.com/drive/folders/1C6lFfCbwQqxlvUE8niVfbeIzeblCnXcx?usp=share_link\n",
    "# pip install gdown && gdown --folder https://drive.google.com/drive/folders/1C6lFfCbwQqxlvUE8niVfbeIzeblCnXcx?usp=share_link\n",
    "source_file_path = \"data/SHREC20b_lores/models/cow.obj\"\n",
    "source_prompt = \"cow\"\n",
    "\n",
    "target_file_path = \"data/SHREC20b_lores/models/camel_a.obj\"\n",
    "target_prompt = \"camel\"\n",
    "\n",
    "\n",
    "# Check if MeshContainer is available\n",
    "try:\n",
    "    source_mesh = MeshContainer().load_from_file(source_file_path)\n",
    "    target_mesh = MeshContainer().load_from_file(target_file_path)\n",
    "except NameError:\n",
    "    # Fallback to load_objs_as_meshes if MeshContainer is not available\n",
    "    source_mesh = load_objs_as_meshes([source_file_path], device=device)\n",
    "    target_mesh = load_objs_as_meshes([target_file_path], device=device)"
   ]
  },
  {
   "cell_type": "code",
   "execution_count": null,
   "metadata": {},
   "outputs": [],
   "source": [
    "sam_model = None\n",
    "f_source = compute_features(device, sam_model, dino_model, pipe, source_mesh, source_prompt, num_views, H, W, tolerance, save_path)\n",
    "f_target = compute_features(device, sam_model, dino_model, pipe, target_mesh, target_prompt, num_views, H, W, tolerance, save_path)"
   ]
  },
  {
   "cell_type": "code",
   "execution_count": null,
   "metadata": {},
   "outputs": [],
   "source": [
    "s = cosine_similarity(f_source.to(device),f_target.to(device))\n",
    "s = torch.argmax(s, dim=0).cpu().numpy()\n",
    "np.save('predicted_mapping.npy', s)\n",
    "\n",
    "cmap_source = get_colors(source_mesh.vert); cmap_target = cmap_source[s]\n",
    "double_plot(source_mesh,target_mesh,cmap_source,cmap_target)"
   ]
  },
  {
   "cell_type": "code",
   "execution_count": null,
   "metadata": {},
   "outputs": [],
   "source": [
    "from eval import evaluate_meshes\n",
    "\n",
    "# Call the evaluation function\n",
    "avg_error, accuracy, distances = evaluate_meshes(\n",
    "    source_file_path = \"data/SHREC20b_lores/models/cow.obj\",\n",
    "    target_file_path = \"data/SHREC20b_lores/models/camel_a.obj\",\n",
    "    source_gt_path = 'data/SHREC20b_lores_gts/cow.mat',\n",
    "    target_gt_path = 'data/SHREC20b_lores_gts/camel_a.mat',\n",
    "    mapping_path = 'predicted_mapping.npy', \n",
    "    debug=False\n",
    ")\n",
    "\n",
    "print(f\"Average correspondence error (err): {avg_error:.6f}\")\n",
    "print(f\"Correspondence accuracy (acc, γ=1%): {accuracy:.6f}\")"
   ]
  },
  {
   "cell_type": "code",
   "execution_count": null,
   "metadata": {},
   "outputs": [],
   "source": [
    "from eval_batch import run_batch_evaluation\n",
    "\n",
    "\n",
    "results = run_batch_evaluation(\n",
    "    pairs_file='data/SHREC20b_lores/test-sets/test-set0.txt',\n",
    "    base_path=\"data/SHREC20b_lores\",\n",
    "    device=device,\n",
    "    sam_model=sam_model,\n",
    "    dino_model=dino_model,\n",
    "    pipe=pipe,\n",
    "    num_views=num_views,\n",
    "    H=H,\n",
    "    W=W,\n",
    "    tolerance=tolerance\n",
    ")"
   ]
  }
 ],
 "metadata": {
  "kernelspec": {
   "display_name": "diff3f",
   "language": "python",
   "name": "python3"
  },
  "language_info": {
   "codemirror_mode": {
    "name": "ipython",
    "version": 3
   },
   "file_extension": ".py",
   "mimetype": "text/x-python",
   "name": "python",
   "nbconvert_exporter": "python",
   "pygments_lexer": "ipython3",
   "version": "3.10.16"
  }
 },
 "nbformat": 4,
 "nbformat_minor": 2
}
