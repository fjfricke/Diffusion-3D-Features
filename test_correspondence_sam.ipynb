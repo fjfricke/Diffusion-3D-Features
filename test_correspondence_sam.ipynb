{
 "cells": [
  {
   "cell_type": "code",
   "execution_count": 1,
   "metadata": {},
   "outputs": [
    {
     "name": "stderr",
     "output_type": "stream",
     "text": [
      "/workspace/miniconda3/envs/diff3f/lib/python3.10/site-packages/transformers/utils/generic.py:311: FutureWarning: `torch.utils._pytree._register_pytree_node` is deprecated. Please use `torch.utils._pytree.register_pytree_node` instead.\n",
      "  torch.utils._pytree._register_pytree_node(\n"
     ]
    }
   ],
   "source": [
    "import torch\n",
    "from diff3f import get_features_per_vertex\n",
    "from time import time\n",
    "from utils import convert_mesh_container_to_torch_mesh, cosine_similarity, double_plot, get_colors, generate_colors\n",
    "from dataloaders.mesh_container import MeshContainer\n",
    "from diffusion import init_pipe\n",
    "from sam2_setup import init_sam2\n",
    "from functional_map import compute_surface_map"
   ]
  },
  {
   "cell_type": "code",
   "execution_count": 2,
   "metadata": {},
   "outputs": [],
   "source": [
    "device = torch.device('cuda:0')\n",
    "torch.cuda.set_device(device)\n",
    "num_views = 20\n",
    "H = 512\n",
    "W = 512\n",
    "num_images_per_prompt = 1\n",
    "tolerance = 0.004\n",
    "random_seed = 42\n",
    "use_normal_map = True"
   ]
  },
  {
   "cell_type": "code",
   "execution_count": 3,
   "metadata": {},
   "outputs": [],
   "source": [
    "def compute_features(device, pipe, dino_model, m, prompt):\n",
    "    mesh = convert_mesh_container_to_torch_mesh(m, device=device, is_tosca=False)\n",
    "    mesh_vertices = mesh.verts_list()[0]\n",
    "    features = get_features_per_vertex(\n",
    "        device=device,\n",
    "        pipe=pipe, \n",
    "        dino_model=dino_model,\n",
    "        sam_model=dino_model,\n",
    "        mesh=mesh,\n",
    "        prompt=prompt,\n",
    "        mesh_vertices=mesh_vertices,\n",
    "        num_views=num_views,\n",
    "        H=H,\n",
    "        W=W,\n",
    "        tolerance=tolerance,\n",
    "        num_images_per_prompt=num_images_per_prompt,\n",
    "        use_normal_map=use_normal_map,\n",
    "        use_sam=True,\n",
    "        use_diffusion=False,\n",
    "    )\n",
    "    return features.cpu()"
   ]
  },
  {
   "cell_type": "code",
   "execution_count": 4,
   "metadata": {},
   "outputs": [
    {
     "data": {
      "application/vnd.jupyter.widget-view+json": {
       "model_id": "3eaf42f5113f42c69b1b30037d204b63",
       "version_major": 2,
       "version_minor": 0
      },
      "text/plain": [
       "Loading pipeline components...:   0%|          | 0/6 [00:00<?, ?it/s]"
      ]
     },
     "metadata": {},
     "output_type": "display_data"
    },
    {
     "name": "stderr",
     "output_type": "stream",
     "text": [
      "You have disabled the safety checker for <class 'pipeline_controlnet_img2img.StableDiffusionControlNetImg2ImgPipeline'> by passing `safety_checker=None`. Ensure that you abide to the conditions of the Stable Diffusion license and do not expose unfiltered results in services or applications open to the public. Both the diffusers team and Hugging Face strongly recommend to keep the safety filter enabled in all public facing circumstances, disabling it only for use-cases that involve analyzing network behavior or auditing its results. For more information, please have a look at https://github.com/huggingface/diffusers/pull/254 .\n"
     ]
    }
   ],
   "source": [
    "pipe = init_pipe(device)\n",
    "dino_model = init_sam2(device)"
   ]
  },
  {
   "cell_type": "code",
   "execution_count": 5,
   "metadata": {},
   "outputs": [],
   "source": [
    "source_file_path = \"meshes/cow.obj\"\n",
    "target_file_path = \"meshes/camel.obj\"\n",
    "source_mesh = MeshContainer().load_from_file(source_file_path)\n",
    "target_mesh = MeshContainer().load_from_file(target_file_path)"
   ]
  },
  {
   "cell_type": "code",
   "execution_count": 6,
   "metadata": {},
   "outputs": [
    {
     "name": "stdout",
     "output_type": "stream",
     "text": [
      "Starting batch_render with num_views=20, H=512, W=512\n",
      "Rendering completed successfully\n",
      "Starting batch_render with num_views=20, H=512, W=512\n",
      "Rendering completed successfully\n",
      "batched_renderings shape:  torch.Size([40, 512, 512, 4])\n",
      "normal_batched_renderings shape:  torch.Size([40, 512, 512, 1, 3])\n",
      "camera R: tensor([[[-1.0000e+00,  0.0000e+00,  0.0000e+00],\n",
      "         [ 0.0000e+00,  1.0000e+00,  0.0000e+00],\n",
      "         [ 0.0000e+00,  0.0000e+00, -1.0000e+00]],\n",
      "\n",
      "        [[-9.5106e-01,  0.0000e+00, -3.0902e-01],\n",
      "         [ 0.0000e+00,  1.0000e+00,  0.0000e+00],\n",
      "         [ 3.0902e-01,  0.0000e+00, -9.5106e-01]],\n",
      "\n",
      "        [[-8.0902e-01,  0.0000e+00, -5.8779e-01],\n",
      "         [ 0.0000e+00,  1.0000e+00,  0.0000e+00],\n",
      "         [ 5.8779e-01,  0.0000e+00, -8.0902e-01]],\n",
      "\n",
      "        [[-5.8779e-01,  0.0000e+00, -8.0902e-01],\n",
      "         [ 0.0000e+00,  1.0000e+00,  0.0000e+00],\n",
      "         [ 8.0902e-01,  0.0000e+00, -5.8779e-01]],\n",
      "\n",
      "        [[-3.0902e-01,  0.0000e+00, -9.5106e-01],\n",
      "         [ 0.0000e+00,  1.0000e+00,  0.0000e+00],\n",
      "         [ 9.5106e-01,  0.0000e+00, -3.0902e-01]],\n",
      "\n",
      "        [[ 4.3711e-08,  0.0000e+00, -1.0000e+00],\n",
      "         [-0.0000e+00,  1.0000e+00,  0.0000e+00],\n",
      "         [ 1.0000e+00,  0.0000e+00,  4.3711e-08]],\n",
      "\n",
      "        [[ 3.0902e-01,  0.0000e+00, -9.5106e-01],\n",
      "         [-0.0000e+00,  1.0000e+00,  0.0000e+00],\n",
      "         [ 9.5106e-01,  0.0000e+00,  3.0902e-01]],\n",
      "\n",
      "        [[ 5.8779e-01,  0.0000e+00, -8.0902e-01],\n",
      "         [-0.0000e+00,  1.0000e+00,  0.0000e+00],\n",
      "         [ 8.0902e-01,  0.0000e+00,  5.8779e-01]],\n",
      "\n",
      "        [[ 8.0902e-01,  0.0000e+00, -5.8779e-01],\n",
      "         [-0.0000e+00,  1.0000e+00,  0.0000e+00],\n",
      "         [ 5.8779e-01,  0.0000e+00,  8.0902e-01]],\n",
      "\n",
      "        [[ 9.5106e-01,  0.0000e+00, -3.0902e-01],\n",
      "         [-0.0000e+00,  1.0000e+00,  0.0000e+00],\n",
      "         [ 3.0902e-01,  0.0000e+00,  9.5106e-01]],\n",
      "\n",
      "        [[ 1.0000e+00, -0.0000e+00,  8.7423e-08],\n",
      "         [ 0.0000e+00,  1.0000e+00,  0.0000e+00],\n",
      "         [-8.7423e-08,  0.0000e+00,  1.0000e+00]],\n",
      "\n",
      "        [[ 9.5106e-01, -0.0000e+00,  3.0902e-01],\n",
      "         [ 0.0000e+00,  1.0000e+00,  0.0000e+00],\n",
      "         [-3.0902e-01,  0.0000e+00,  9.5106e-01]],\n",
      "\n",
      "        [[ 8.0902e-01, -0.0000e+00,  5.8779e-01],\n",
      "         [ 0.0000e+00,  1.0000e+00,  0.0000e+00],\n",
      "         [-5.8779e-01,  0.0000e+00,  8.0902e-01]],\n",
      "\n",
      "        [[ 5.8779e-01, -0.0000e+00,  8.0902e-01],\n",
      "         [ 0.0000e+00,  1.0000e+00,  0.0000e+00],\n",
      "         [-8.0902e-01,  0.0000e+00,  5.8779e-01]],\n",
      "\n",
      "        [[ 3.0902e-01, -0.0000e+00,  9.5106e-01],\n",
      "         [ 0.0000e+00,  1.0000e+00,  0.0000e+00],\n",
      "         [-9.5106e-01,  0.0000e+00,  3.0902e-01]],\n",
      "\n",
      "        [[-1.1925e-08,  0.0000e+00,  1.0000e+00],\n",
      "         [ 0.0000e+00,  1.0000e+00,  0.0000e+00],\n",
      "         [-1.0000e+00,  0.0000e+00, -1.1925e-08]],\n",
      "\n",
      "        [[-3.0902e-01,  0.0000e+00,  9.5106e-01],\n",
      "         [ 0.0000e+00,  1.0000e+00,  0.0000e+00],\n",
      "         [-9.5106e-01,  0.0000e+00, -3.0902e-01]],\n",
      "\n",
      "        [[-5.8779e-01,  0.0000e+00,  8.0902e-01],\n",
      "         [ 0.0000e+00,  1.0000e+00,  0.0000e+00],\n",
      "         [-8.0902e-01,  0.0000e+00, -5.8779e-01]],\n",
      "\n",
      "        [[-8.0902e-01,  0.0000e+00,  5.8779e-01],\n",
      "         [ 0.0000e+00,  1.0000e+00,  0.0000e+00],\n",
      "         [-5.8779e-01,  0.0000e+00, -8.0902e-01]],\n",
      "\n",
      "        [[-9.5106e-01,  0.0000e+00,  3.0902e-01],\n",
      "         [ 0.0000e+00,  1.0000e+00,  0.0000e+00],\n",
      "         [-3.0902e-01,  0.0000e+00, -9.5106e-01]],\n",
      "\n",
      "        [[-1.0000e+00,  0.0000e+00,  0.0000e+00],\n",
      "         [ 0.0000e+00,  1.0000e+00, -1.7453e-05],\n",
      "         [-0.0000e+00, -1.7453e-05, -1.0000e+00]],\n",
      "\n",
      "        [[-1.0000e+00,  0.0000e+00,  0.0000e+00],\n",
      "         [ 0.0000e+00,  9.4581e-01, -3.2471e-01],\n",
      "         [-0.0000e+00, -3.2471e-01, -9.4581e-01]],\n",
      "\n",
      "        [[-1.0000e+00,  0.0000e+00,  0.0000e+00],\n",
      "         [ 0.0000e+00,  7.8913e-01, -6.1422e-01],\n",
      "         [-0.0000e+00, -6.1422e-01, -7.8913e-01]],\n",
      "\n",
      "        [[-1.0000e+00,  0.0000e+00,  0.0000e+00],\n",
      "         [ 0.0000e+00,  5.4694e-01, -8.3717e-01],\n",
      "         [-0.0000e+00, -8.3717e-01, -5.4694e-01]],\n",
      "\n",
      "        [[-1.0000e+00,  0.0000e+00,  0.0000e+00],\n",
      "         [ 0.0000e+00,  2.4548e-01, -9.6940e-01],\n",
      "         [-0.0000e+00, -9.6940e-01, -2.4548e-01]],\n",
      "\n",
      "        [[ 1.0000e+00,  0.0000e+00,  0.0000e+00],\n",
      "         [ 0.0000e+00,  8.2588e-02, -9.9658e-01],\n",
      "         [-0.0000e+00,  9.9658e-01,  8.2588e-02]],\n",
      "\n",
      "        [[ 1.0000e+00,  0.0000e+00,  0.0000e+00],\n",
      "         [ 0.0000e+00,  4.0170e-01, -9.1577e-01],\n",
      "         [-0.0000e+00,  9.1577e-01,  4.0170e-01]],\n",
      "\n",
      "        [[ 1.0000e+00,  0.0000e+00,  0.0000e+00],\n",
      "         [ 0.0000e+00,  6.7728e-01, -7.3572e-01],\n",
      "         [-0.0000e+00,  7.3572e-01,  6.7728e-01]],\n",
      "\n",
      "        [[ 1.0000e+00,  0.0000e+00,  0.0000e+00],\n",
      "         [ 0.0000e+00,  8.7947e-01, -4.7595e-01],\n",
      "         [-0.0000e+00,  4.7595e-01,  8.7947e-01]],\n",
      "\n",
      "        [[ 1.0000e+00,  0.0000e+00,  0.0000e+00],\n",
      "         [ 0.0000e+00,  9.8636e-01, -1.6459e-01],\n",
      "         [-0.0000e+00,  1.6459e-01,  9.8636e-01]],\n",
      "\n",
      "        [[ 1.0000e+00,  0.0000e+00,  0.0000e+00],\n",
      "         [-0.0000e+00,  9.8636e-01,  1.6459e-01],\n",
      "         [ 0.0000e+00, -1.6459e-01,  9.8636e-01]],\n",
      "\n",
      "        [[ 1.0000e+00,  0.0000e+00,  0.0000e+00],\n",
      "         [-0.0000e+00,  8.7948e-01,  4.7595e-01],\n",
      "         [ 0.0000e+00, -4.7595e-01,  8.7948e-01]],\n",
      "\n",
      "        [[ 1.0000e+00,  0.0000e+00,  0.0000e+00],\n",
      "         [-0.0000e+00,  6.7728e-01,  7.3572e-01],\n",
      "         [ 0.0000e+00, -7.3572e-01,  6.7728e-01]],\n",
      "\n",
      "        [[ 1.0000e+00,  0.0000e+00,  0.0000e+00],\n",
      "         [-0.0000e+00,  4.0170e-01,  9.1577e-01],\n",
      "         [ 0.0000e+00, -9.1577e-01,  4.0170e-01]],\n",
      "\n",
      "        [[ 1.0000e+00,  0.0000e+00,  0.0000e+00],\n",
      "         [-0.0000e+00,  8.2587e-02,  9.9658e-01],\n",
      "         [ 0.0000e+00, -9.9658e-01,  8.2587e-02]],\n",
      "\n",
      "        [[-1.0000e+00,  0.0000e+00,  0.0000e+00],\n",
      "         [ 0.0000e+00,  2.4548e-01,  9.6940e-01],\n",
      "         [ 0.0000e+00,  9.6940e-01, -2.4548e-01]],\n",
      "\n",
      "        [[-1.0000e+00,  0.0000e+00,  0.0000e+00],\n",
      "         [ 0.0000e+00,  5.4694e-01,  8.3717e-01],\n",
      "         [ 0.0000e+00,  8.3717e-01, -5.4694e-01]],\n",
      "\n",
      "        [[-1.0000e+00,  0.0000e+00,  0.0000e+00],\n",
      "         [ 0.0000e+00,  7.8913e-01,  6.1422e-01],\n",
      "         [ 0.0000e+00,  6.1422e-01, -7.8913e-01]],\n",
      "\n",
      "        [[-1.0000e+00,  0.0000e+00,  0.0000e+00],\n",
      "         [ 0.0000e+00,  9.4581e-01,  3.2471e-01],\n",
      "         [ 0.0000e+00,  3.2471e-01, -9.4581e-01]],\n",
      "\n",
      "        [[-1.0000e+00,  0.0000e+00,  0.0000e+00],\n",
      "         [ 0.0000e+00,  1.0000e+00,  1.7468e-05],\n",
      "         [ 0.0000e+00,  1.7468e-05, -1.0000e+00]]], device='cuda:0')\n",
      "camera T: tensor([[-0.0000e+00, -0.0000e+00,  1.0169e+00],\n",
      "        [-1.2169e-08, -0.0000e+00,  1.0169e+00],\n",
      "        [ 1.7621e-08, -0.0000e+00,  1.0169e+00],\n",
      "        [-2.7863e-08, -0.0000e+00,  1.0169e+00],\n",
      "        [-1.3258e-08, -0.0000e+00,  1.0169e+00],\n",
      "        [-0.0000e+00, -0.0000e+00,  1.0169e+00],\n",
      "        [-1.3627e-08, -0.0000e+00,  1.0169e+00],\n",
      "        [ 3.8844e-09, -0.0000e+00,  1.0169e+00],\n",
      "        [-1.2388e-08, -0.0000e+00,  1.0169e+00],\n",
      "        [ 2.1592e-08, -0.0000e+00,  1.0169e+00],\n",
      "        [-3.8619e-16, -0.0000e+00,  1.0169e+00],\n",
      "        [-1.3148e-08, -0.0000e+00,  1.0169e+00],\n",
      "        [ 1.5820e-08, -0.0000e+00,  1.0169e+00],\n",
      "        [-4.8254e-10, -0.0000e+00,  1.0169e+00],\n",
      "        [ 1.2765e-08, -0.0000e+00,  1.0169e+00],\n",
      "        [-0.0000e+00, -0.0000e+00,  1.0169e+00],\n",
      "        [-1.2765e-08, -0.0000e+00,  1.0169e+00],\n",
      "        [ 1.4057e-08, -0.0000e+00,  1.0169e+00],\n",
      "        [-3.6199e-09, -0.0000e+00,  1.0169e+00],\n",
      "        [ 1.4128e-08, -0.0000e+00,  1.0169e+00],\n",
      "        [-0.0000e+00, -0.0000e+00,  1.0169e+00],\n",
      "        [-0.0000e+00, -0.0000e+00,  1.0169e+00],\n",
      "        [-0.0000e+00, -0.0000e+00,  1.0169e+00],\n",
      "        [-0.0000e+00, -0.0000e+00,  1.0169e+00],\n",
      "        [-0.0000e+00,  1.4901e-08,  1.0169e+00],\n",
      "        [-0.0000e+00, -0.0000e+00,  1.0169e+00],\n",
      "        [-0.0000e+00, -0.0000e+00,  1.0169e+00],\n",
      "        [-0.0000e+00, -0.0000e+00,  1.0169e+00],\n",
      "        [-0.0000e+00, -0.0000e+00,  1.0169e+00],\n",
      "        [-0.0000e+00, -0.0000e+00,  1.0169e+00],\n",
      "        [-0.0000e+00, -0.0000e+00,  1.0169e+00],\n",
      "        [-0.0000e+00, -0.0000e+00,  1.0169e+00],\n",
      "        [-0.0000e+00, -0.0000e+00,  1.0169e+00],\n",
      "        [-0.0000e+00, -0.0000e+00,  1.0169e+00],\n",
      "        [-0.0000e+00, -0.0000e+00,  1.0169e+00],\n",
      "        [-0.0000e+00, -0.0000e+00,  1.0169e+00],\n",
      "        [-0.0000e+00, -2.9802e-08,  1.0169e+00],\n",
      "        [-0.0000e+00, -2.9802e-08,  1.0169e+00],\n",
      "        [-0.0000e+00, -0.0000e+00,  1.0169e+00],\n",
      "        [-0.0000e+00, -0.0000e+00,  1.0169e+00]], device='cuda:0')\n",
      "depth shape:  torch.Size([40, 512, 512, 1])\n",
      "Video saved to output.mp4\n",
      "\n"
     ]
    },
    {
     "name": "stderr",
     "output_type": "stream",
     "text": [
      "/workspace/miniconda3/envs/diff3f/lib/python3.10/site-packages/torch/functional.py:513: UserWarning: torch.meshgrid: in an upcoming release, it will be required to pass the indexing argument. (Triggered internally at /home/conda/feedstock_root/build_artifacts/libtorch_1729805341246/work/aten/src/ATen/native/TensorShape.cpp:3609.)\n",
      "  return _VF.meshgrid(tensors, **kwargs)  # type: ignore[attr-defined]\n",
      "  0%|                                                                                                                                                                                                                                     | 0/40 [00:00<?, ?it/s]"
     ]
    },
    {
     "name": "stdout",
     "output_type": "stream",
     "text": [
      "Type: <class 'list'>\n",
      "Length: 2\n",
      "First element type: <class 'torch.Tensor'>\n",
      "Second element type: <class 'list'>\n"
     ]
    },
    {
     "name": "stderr",
     "output_type": "stream",
     "text": [
      "/workspace/miniconda3/envs/diff3f/lib/python3.10/site-packages/sam2/modeling/sam/transformer.py:270: UserWarning: Memory efficient kernel not used because: (Triggered internally at /home/conda/feedstock_root/build_artifacts/libtorch_1729805341246/work/aten/src/ATen/native/transformers/cuda/sdp_utils.cpp:723.)\n",
      "  out = F.scaled_dot_product_attention(q, k, v, dropout_p=dropout_p)\n",
      "/workspace/miniconda3/envs/diff3f/lib/python3.10/site-packages/sam2/modeling/sam/transformer.py:270: UserWarning: Memory Efficient attention has been runtime disabled. (Triggered internally at /home/conda/feedstock_root/build_artifacts/libtorch_1729805341246/work/aten/src/ATen/native/transformers/sdp_utils_cpp.h:495.)\n",
      "  out = F.scaled_dot_product_attention(q, k, v, dropout_p=dropout_p)\n",
      "/workspace/miniconda3/envs/diff3f/lib/python3.10/site-packages/sam2/modeling/sam/transformer.py:270: UserWarning: Flash attention kernel not used because: (Triggered internally at /home/conda/feedstock_root/build_artifacts/libtorch_1729805341246/work/aten/src/ATen/native/transformers/cuda/sdp_utils.cpp:725.)\n",
      "  out = F.scaled_dot_product_attention(q, k, v, dropout_p=dropout_p)\n",
      "/workspace/miniconda3/envs/diff3f/lib/python3.10/site-packages/sam2/modeling/sam/transformer.py:270: UserWarning: Expected query, key and value to all be of dtype: {Half, BFloat16}. Got Query dtype: float, Key dtype: float, and Value dtype: float instead. (Triggered internally at /home/conda/feedstock_root/build_artifacts/libtorch_1729805341246/work/aten/src/ATen/native/transformers/sdp_utils_cpp.h:98.)\n",
      "  out = F.scaled_dot_product_attention(q, k, v, dropout_p=dropout_p)\n",
      "/workspace/miniconda3/envs/diff3f/lib/python3.10/site-packages/sam2/modeling/sam/transformer.py:270: UserWarning: CuDNN attention kernel not used because: (Triggered internally at /home/conda/feedstock_root/build_artifacts/libtorch_1729805341246/work/aten/src/ATen/native/transformers/cuda/sdp_utils.cpp:727.)\n",
      "  out = F.scaled_dot_product_attention(q, k, v, dropout_p=dropout_p)\n",
      "/workspace/miniconda3/envs/diff3f/lib/python3.10/site-packages/sam2/modeling/sam/transformer.py:270: UserWarning: The CuDNN backend needs to be enabled by setting the enviornment variable`TORCH_CUDNN_SDPA_ENABLED=1` (Triggered internally at /home/conda/feedstock_root/build_artifacts/libtorch_1729805341246/work/aten/src/ATen/native/transformers/cuda/sdp_utils.cpp:496.)\n",
      "  out = F.scaled_dot_product_attention(q, k, v, dropout_p=dropout_p)\n",
      "/workspace/miniconda3/envs/diff3f/lib/python3.10/site-packages/torch/nn/modules/module.py:1562: UserWarning: Flash Attention kernel failed due to: No available kernel. Aborting execution.\n",
      "Falling back to all available kernels for scaled_dot_product_attention (which may have a slower speed).\n",
      "  return forward_call(*args, **kwargs)\n",
      "  2%|█████▌                                                                                                                                                                                                                       | 1/40 [00:06<04:13,  6.51s/it]"
     ]
    },
    {
     "name": "stdout",
     "output_type": "stream",
     "text": [
      "Type: <class 'list'>\n",
      "Length: 2\n",
      "First element type: <class 'torch.Tensor'>\n",
      "Second element type: <class 'list'>\n"
     ]
    },
    {
     "name": "stderr",
     "output_type": "stream",
     "text": [
      "  5%|███████████                                                                                                                                                                                                                  | 2/40 [00:11<03:26,  5.44s/it]"
     ]
    },
    {
     "name": "stdout",
     "output_type": "stream",
     "text": [
      "Type: <class 'list'>\n",
      "Length: 2\n",
      "First element type: <class 'torch.Tensor'>\n",
      "Second element type: <class 'list'>\n"
     ]
    },
    {
     "name": "stderr",
     "output_type": "stream",
     "text": [
      "  8%|████████████████▌                                                                                                                                                                                                            | 3/40 [00:15<03:02,  4.92s/it]"
     ]
    },
    {
     "name": "stdout",
     "output_type": "stream",
     "text": [
      "Type: <class 'list'>\n",
      "Length: 2\n",
      "First element type: <class 'torch.Tensor'>\n",
      "Second element type: <class 'list'>\n"
     ]
    },
    {
     "name": "stderr",
     "output_type": "stream",
     "text": [
      " 10%|██████████████████████                                                                                                                                                                                                       | 4/40 [00:19<02:45,  4.60s/it]"
     ]
    },
    {
     "name": "stdout",
     "output_type": "stream",
     "text": [
      "Type: <class 'list'>\n",
      "Length: 2\n",
      "First element type: <class 'torch.Tensor'>\n",
      "Second element type: <class 'list'>\n"
     ]
    },
    {
     "name": "stderr",
     "output_type": "stream",
     "text": [
      " 12%|███████████████████████████▋                                                                                                                                                                                                 | 5/40 [00:23<02:32,  4.35s/it]"
     ]
    },
    {
     "name": "stdout",
     "output_type": "stream",
     "text": [
      "Type: <class 'list'>\n",
      "Length: 2\n",
      "First element type: <class 'torch.Tensor'>\n",
      "Second element type: <class 'list'>\n"
     ]
    },
    {
     "name": "stderr",
     "output_type": "stream",
     "text": [
      " 15%|█████████████████████████████████▏                                                                                                                                                                                           | 6/40 [00:27<02:26,  4.30s/it]"
     ]
    },
    {
     "name": "stdout",
     "output_type": "stream",
     "text": [
      "Type: <class 'list'>\n",
      "Length: 2\n",
      "First element type: <class 'torch.Tensor'>\n",
      "Second element type: <class 'list'>\n"
     ]
    },
    {
     "name": "stderr",
     "output_type": "stream",
     "text": [
      " 18%|██████████████████████████████████████▋                                                                                                                                                                                      | 7/40 [00:31<02:17,  4.16s/it]"
     ]
    },
    {
     "name": "stdout",
     "output_type": "stream",
     "text": [
      "Type: <class 'list'>\n",
      "Length: 2\n",
      "First element type: <class 'torch.Tensor'>\n",
      "Second element type: <class 'list'>\n"
     ]
    },
    {
     "name": "stderr",
     "output_type": "stream",
     "text": [
      " 20%|████████████████████████████████████████████▏                                                                                                                                                                                | 8/40 [00:35<02:09,  4.05s/it]"
     ]
    },
    {
     "name": "stdout",
     "output_type": "stream",
     "text": [
      "Type: <class 'list'>\n",
      "Length: 2\n",
      "First element type: <class 'torch.Tensor'>\n",
      "Second element type: <class 'list'>\n"
     ]
    },
    {
     "name": "stderr",
     "output_type": "stream",
     "text": [
      " 22%|█████████████████████████████████████████████████▋                                                                                                                                                                           | 9/40 [00:39<02:06,  4.07s/it]"
     ]
    },
    {
     "name": "stdout",
     "output_type": "stream",
     "text": [
      "Type: <class 'list'>\n",
      "Length: 2\n",
      "First element type: <class 'torch.Tensor'>\n",
      "Second element type: <class 'list'>\n"
     ]
    },
    {
     "name": "stderr",
     "output_type": "stream",
     "text": [
      " 25%|███████████████████████████████████████████████████████                                                                                                                                                                     | 10/40 [00:43<02:00,  4.02s/it]"
     ]
    },
    {
     "name": "stdout",
     "output_type": "stream",
     "text": [
      "Type: <class 'list'>\n",
      "Length: 2\n",
      "First element type: <class 'torch.Tensor'>\n",
      "Second element type: <class 'list'>\n"
     ]
    },
    {
     "name": "stderr",
     "output_type": "stream",
     "text": [
      " 28%|████████████████████████████████████████████████████████████▌                                                                                                                                                               | 11/40 [00:47<01:58,  4.10s/it]"
     ]
    },
    {
     "name": "stdout",
     "output_type": "stream",
     "text": [
      "Type: <class 'list'>\n",
      "Length: 2\n",
      "First element type: <class 'torch.Tensor'>\n",
      "Second element type: <class 'list'>\n"
     ]
    },
    {
     "name": "stderr",
     "output_type": "stream",
     "text": [
      " 30%|██████████████████████████████████████████████████████████████████                                                                                                                                                          | 12/40 [00:51<01:54,  4.10s/it]"
     ]
    },
    {
     "name": "stdout",
     "output_type": "stream",
     "text": [
      "Type: <class 'list'>\n",
      "Length: 2\n",
      "First element type: <class 'torch.Tensor'>\n",
      "Second element type: <class 'list'>\n"
     ]
    },
    {
     "name": "stderr",
     "output_type": "stream",
     "text": [
      " 32%|███████████████████████████████████████████████████████████████████████▌                                                                                                                                                    | 13/40 [00:56<01:53,  4.19s/it]"
     ]
    },
    {
     "name": "stdout",
     "output_type": "stream",
     "text": [
      "Type: <class 'list'>\n",
      "Length: 2\n",
      "First element type: <class 'torch.Tensor'>\n",
      "Second element type: <class 'list'>\n"
     ]
    },
    {
     "name": "stderr",
     "output_type": "stream",
     "text": [
      " 35%|█████████████████████████████████████████████████████████████████████████████                                                                                                                                               | 14/40 [01:00<01:47,  4.13s/it]"
     ]
    },
    {
     "name": "stdout",
     "output_type": "stream",
     "text": [
      "Type: <class 'list'>\n",
      "Length: 2\n",
      "First element type: <class 'torch.Tensor'>\n",
      "Second element type: <class 'list'>\n"
     ]
    },
    {
     "name": "stderr",
     "output_type": "stream",
     "text": [
      " 38%|██████████████████████████████████████████████████████████████████████████████████▌                                                                                                                                         | 15/40 [01:04<01:44,  4.18s/it]"
     ]
    },
    {
     "name": "stdout",
     "output_type": "stream",
     "text": [
      "Type: <class 'list'>\n",
      "Length: 2\n",
      "First element type: <class 'torch.Tensor'>\n",
      "Second element type: <class 'list'>\n"
     ]
    },
    {
     "name": "stderr",
     "output_type": "stream",
     "text": [
      " 40%|████████████████████████████████████████████████████████████████████████████████████████                                                                                                                                    | 16/40 [01:08<01:41,  4.22s/it]"
     ]
    },
    {
     "name": "stdout",
     "output_type": "stream",
     "text": [
      "Type: <class 'list'>\n",
      "Length: 2\n",
      "First element type: <class 'torch.Tensor'>\n",
      "Second element type: <class 'list'>\n"
     ]
    },
    {
     "name": "stderr",
     "output_type": "stream",
     "text": [
      " 42%|█████████████████████████████████████████████████████████████████████████████████████████████▌                                                                                                                              | 17/40 [01:13<01:39,  4.33s/it]"
     ]
    },
    {
     "name": "stdout",
     "output_type": "stream",
     "text": [
      "Type: <class 'list'>\n",
      "Length: 2\n",
      "First element type: <class 'torch.Tensor'>\n",
      "Second element type: <class 'list'>\n"
     ]
    },
    {
     "name": "stderr",
     "output_type": "stream",
     "text": [
      " 45%|███████████████████████████████████████████████████████████████████████████████████████████████████                                                                                                                         | 18/40 [01:17<01:34,  4.30s/it]"
     ]
    },
    {
     "name": "stdout",
     "output_type": "stream",
     "text": [
      "Type: <class 'list'>\n",
      "Length: 2\n",
      "First element type: <class 'torch.Tensor'>\n",
      "Second element type: <class 'list'>\n"
     ]
    },
    {
     "name": "stderr",
     "output_type": "stream",
     "text": [
      " 48%|████████████████████████████████████████████████████████████████████████████████████████████████████████▌                                                                                                                   | 19/40 [01:21<01:29,  4.27s/it]"
     ]
    },
    {
     "name": "stdout",
     "output_type": "stream",
     "text": [
      "Type: <class 'list'>\n",
      "Length: 2\n",
      "First element type: <class 'torch.Tensor'>\n",
      "Second element type: <class 'list'>\n"
     ]
    },
    {
     "name": "stderr",
     "output_type": "stream",
     "text": [
      " 50%|██████████████████████████████████████████████████████████████████████████████████████████████████████████████                                                                                                              | 20/40 [01:25<01:24,  4.21s/it]"
     ]
    },
    {
     "name": "stdout",
     "output_type": "stream",
     "text": [
      "Type: <class 'list'>\n",
      "Length: 2\n",
      "First element type: <class 'torch.Tensor'>\n",
      "Second element type: <class 'list'>\n"
     ]
    },
    {
     "name": "stderr",
     "output_type": "stream",
     "text": [
      " 52%|███████████████████████████████████████████████████████████████████████████████████████████████████████████████████▌                                                                                                        | 21/40 [01:30<01:20,  4.24s/it]"
     ]
    },
    {
     "name": "stdout",
     "output_type": "stream",
     "text": [
      "Type: <class 'list'>\n",
      "Length: 2\n",
      "First element type: <class 'torch.Tensor'>\n",
      "Second element type: <class 'list'>\n"
     ]
    },
    {
     "name": "stderr",
     "output_type": "stream",
     "text": [
      " 55%|█████████████████████████████████████████████████████████████████████████████████████████████████████████████████████████                                                                                                   | 22/40 [01:34<01:16,  4.26s/it]"
     ]
    },
    {
     "name": "stdout",
     "output_type": "stream",
     "text": [
      "Type: <class 'list'>\n",
      "Length: 2\n",
      "First element type: <class 'torch.Tensor'>\n",
      "Second element type: <class 'list'>\n"
     ]
    },
    {
     "name": "stderr",
     "output_type": "stream",
     "text": [
      " 57%|██████████████████████████████████████████████████████████████████████████████████████████████████████████████████████████████▍                                                                                             | 23/40 [01:38<01:12,  4.24s/it]"
     ]
    },
    {
     "name": "stdout",
     "output_type": "stream",
     "text": [
      "Type: <class 'list'>\n",
      "Length: 2\n",
      "First element type: <class 'torch.Tensor'>\n",
      "Second element type: <class 'list'>\n"
     ]
    },
    {
     "name": "stderr",
     "output_type": "stream",
     "text": [
      " 60%|████████████████████████████████████████████████████████████████████████████████████████████████████████████████████████████████████                                                                                        | 24/40 [01:43<01:08,  4.26s/it]"
     ]
    },
    {
     "name": "stdout",
     "output_type": "stream",
     "text": [
      "Type: <class 'list'>\n",
      "Length: 2\n",
      "First element type: <class 'torch.Tensor'>\n",
      "Second element type: <class 'list'>\n"
     ]
    },
    {
     "name": "stderr",
     "output_type": "stream",
     "text": [
      " 62%|█████████████████████████████████████████████████████████████████████████████████████████████████████████████████████████████████████████▌                                                                                  | 25/40 [01:47<01:04,  4.33s/it]"
     ]
    },
    {
     "name": "stdout",
     "output_type": "stream",
     "text": [
      "Type: <class 'list'>\n",
      "Length: 2\n",
      "First element type: <class 'torch.Tensor'>\n",
      "Second element type: <class 'list'>\n"
     ]
    },
    {
     "name": "stderr",
     "output_type": "stream",
     "text": [
      " 65%|███████████████████████████████████████████████████████████████████████████████████████████████████████████████████████████████████████████████                                                                             | 26/40 [01:51<01:00,  4.35s/it]"
     ]
    },
    {
     "name": "stdout",
     "output_type": "stream",
     "text": [
      "Type: <class 'list'>\n",
      "Length: 2\n",
      "First element type: <class 'torch.Tensor'>\n",
      "Second element type: <class 'list'>\n"
     ]
    },
    {
     "name": "stderr",
     "output_type": "stream",
     "text": [
      " 68%|████████████████████████████████████████████████████████████████████████████████████████████████████████████████████████████████████████████████████▌                                                                       | 27/40 [01:56<00:55,  4.31s/it]"
     ]
    },
    {
     "name": "stdout",
     "output_type": "stream",
     "text": [
      "Type: <class 'list'>\n",
      "Length: 2\n",
      "First element type: <class 'torch.Tensor'>\n",
      "Second element type: <class 'list'>\n"
     ]
    },
    {
     "name": "stderr",
     "output_type": "stream",
     "text": [
      " 70%|██████████████████████████████████████████████████████████████████████████████████████████████████████████████████████████████████████████████████████████                                                                  | 28/40 [02:00<00:50,  4.21s/it]"
     ]
    },
    {
     "name": "stdout",
     "output_type": "stream",
     "text": [
      "Type: <class 'list'>\n",
      "Length: 2\n",
      "First element type: <class 'torch.Tensor'>\n",
      "Second element type: <class 'list'>\n"
     ]
    },
    {
     "name": "stderr",
     "output_type": "stream",
     "text": [
      " 72%|███████████████████████████████████████████████████████████████████████████████████████████████████████████████████████████████████████████████████████████████▌                                                            | 29/40 [02:04<00:45,  4.15s/it]"
     ]
    },
    {
     "name": "stdout",
     "output_type": "stream",
     "text": [
      "Type: <class 'list'>\n",
      "Length: 2\n",
      "First element type: <class 'torch.Tensor'>\n",
      "Second element type: <class 'list'>\n"
     ]
    },
    {
     "name": "stderr",
     "output_type": "stream",
     "text": [
      " 75%|█████████████████████████████████████████████████████████████████████████████████████████████████████████████████████████████████████████████████████████████████████                                                       | 30/40 [02:08<00:41,  4.14s/it]"
     ]
    },
    {
     "name": "stdout",
     "output_type": "stream",
     "text": [
      "Type: <class 'list'>\n",
      "Length: 2\n",
      "First element type: <class 'torch.Tensor'>\n",
      "Second element type: <class 'list'>\n"
     ]
    },
    {
     "name": "stderr",
     "output_type": "stream",
     "text": [
      " 78%|██████████████████████████████████████████████████████████████████████████████████████████████████████████████████████████████████████████████████████████████████████████▌                                                 | 31/40 [02:12<00:37,  4.18s/it]"
     ]
    },
    {
     "name": "stdout",
     "output_type": "stream",
     "text": [
      "Type: <class 'list'>\n",
      "Length: 2\n",
      "First element type: <class 'torch.Tensor'>\n",
      "Second element type: <class 'list'>\n"
     ]
    },
    {
     "name": "stderr",
     "output_type": "stream",
     "text": [
      " 80%|████████████████████████████████████████████████████████████████████████████████████████████████████████████████████████████████████████████████████████████████████████████████                                            | 32/40 [02:16<00:32,  4.07s/it]"
     ]
    },
    {
     "name": "stdout",
     "output_type": "stream",
     "text": [
      "Type: <class 'list'>\n",
      "Length: 2\n",
      "First element type: <class 'torch.Tensor'>\n",
      "Second element type: <class 'list'>\n"
     ]
    },
    {
     "name": "stderr",
     "output_type": "stream",
     "text": [
      " 82%|█████████████████████████████████████████████████████████████████████████████████████████████████████████████████████████████████████████████████████████████████████████████████████▌                                      | 33/40 [02:20<00:28,  4.08s/it]"
     ]
    },
    {
     "name": "stdout",
     "output_type": "stream",
     "text": [
      "Type: <class 'list'>\n",
      "Length: 2\n",
      "First element type: <class 'torch.Tensor'>\n",
      "Second element type: <class 'list'>\n"
     ]
    },
    {
     "name": "stderr",
     "output_type": "stream",
     "text": [
      " 85%|███████████████████████████████████████████████████████████████████████████████████████████████████████████████████████████████████████████████████████████████████████████████████████████                                 | 34/40 [02:25<00:25,  4.23s/it]"
     ]
    },
    {
     "name": "stdout",
     "output_type": "stream",
     "text": [
      "Type: <class 'list'>\n",
      "Length: 2\n",
      "First element type: <class 'torch.Tensor'>\n",
      "Second element type: <class 'list'>\n"
     ]
    },
    {
     "name": "stderr",
     "output_type": "stream",
     "text": [
      " 88%|████████████████████████████████████████████████████████████████████████████████████████████████████████████████████████████████████████████████████████████████████████████████████████████████▌                           | 35/40 [02:29<00:21,  4.28s/it]"
     ]
    },
    {
     "name": "stdout",
     "output_type": "stream",
     "text": [
      "Type: <class 'list'>\n",
      "Length: 2\n",
      "First element type: <class 'torch.Tensor'>\n",
      "Second element type: <class 'list'>\n"
     ]
    },
    {
     "name": "stderr",
     "output_type": "stream",
     "text": [
      " 90%|██████████████████████████████████████████████████████████████████████████████████████████████████████████████████████████████████████████████████████████████████████████████████████████████████████                      | 36/40 [02:33<00:16,  4.20s/it]"
     ]
    },
    {
     "name": "stdout",
     "output_type": "stream",
     "text": [
      "Type: <class 'list'>\n",
      "Length: 2\n",
      "First element type: <class 'torch.Tensor'>\n",
      "Second element type: <class 'list'>\n"
     ]
    },
    {
     "name": "stderr",
     "output_type": "stream",
     "text": [
      " 92%|███████████████████████████████████████████████████████████████████████████████████████████████████████████████████████████████████████████████████████████████████████████████████████████████████████████▌                | 37/40 [02:37<00:12,  4.26s/it]"
     ]
    },
    {
     "name": "stdout",
     "output_type": "stream",
     "text": [
      "Type: <class 'list'>\n",
      "Length: 2\n",
      "First element type: <class 'torch.Tensor'>\n",
      "Second element type: <class 'list'>\n"
     ]
    },
    {
     "name": "stderr",
     "output_type": "stream",
     "text": [
      " 95%|█████████████████████████████████████████████████████████████████████████████████████████████████████████████████████████████████████████████████████████████████████████████████████████████████████████████████           | 38/40 [02:42<00:08,  4.27s/it]"
     ]
    },
    {
     "name": "stdout",
     "output_type": "stream",
     "text": [
      "Type: <class 'list'>\n",
      "Length: 2\n",
      "First element type: <class 'torch.Tensor'>\n",
      "Second element type: <class 'list'>\n"
     ]
    },
    {
     "name": "stderr",
     "output_type": "stream",
     "text": [
      " 98%|██████████████████████████████████████████████████████████████████████████████████████████████████████████████████████████████████████████████████████████████████████████████████████████████████████████████████████▌     | 39/40 [02:46<00:04,  4.22s/it]"
     ]
    },
    {
     "name": "stdout",
     "output_type": "stream",
     "text": [
      "Type: <class 'list'>\n",
      "Length: 2\n",
      "First element type: <class 'torch.Tensor'>\n",
      "Second element type: <class 'list'>\n"
     ]
    },
    {
     "name": "stderr",
     "output_type": "stream",
     "text": [
      "100%|████████████████████████████████████████████████████████████████████████████████████████████████████████████████████████████████████████████████████████████████████████████████████████████████████████████████████████████| 40/40 [02:50<00:00,  4.26s/it]\n"
     ]
    },
    {
     "name": "stdout",
     "output_type": "stream",
     "text": [
      "Number of missing features:  6\n",
      "Copied features from nearest vertices\n",
      "Time taken in mins:  2.921879283587138\n"
     ]
    }
   ],
   "source": [
    "f_source = compute_features(device, pipe, dino_model, source_mesh, \"cow\")"
   ]
  },
  {
   "cell_type": "code",
   "execution_count": 7,
   "metadata": {},
   "outputs": [
    {
     "name": "stdout",
     "output_type": "stream",
     "text": [
      "Starting batch_render with num_views=20, H=512, W=512\n",
      "Rendering completed successfully\n",
      "Starting batch_render with num_views=20, H=512, W=512\n",
      "Rendering completed successfully\n",
      "batched_renderings shape:  torch.Size([40, 512, 512, 4])\n",
      "normal_batched_renderings shape:  torch.Size([40, 512, 512, 1, 3])\n",
      "camera R: tensor([[[-1.0000e+00,  0.0000e+00,  0.0000e+00],\n",
      "         [ 0.0000e+00,  1.0000e+00,  0.0000e+00],\n",
      "         [ 0.0000e+00,  0.0000e+00, -1.0000e+00]],\n",
      "\n",
      "        [[-9.5106e-01,  0.0000e+00, -3.0902e-01],\n",
      "         [ 0.0000e+00,  1.0000e+00,  0.0000e+00],\n",
      "         [ 3.0902e-01,  0.0000e+00, -9.5106e-01]],\n",
      "\n",
      "        [[-8.0902e-01,  0.0000e+00, -5.8779e-01],\n",
      "         [ 0.0000e+00,  1.0000e+00,  0.0000e+00],\n",
      "         [ 5.8779e-01,  0.0000e+00, -8.0902e-01]],\n",
      "\n",
      "        [[-5.8779e-01,  0.0000e+00, -8.0902e-01],\n",
      "         [ 0.0000e+00,  1.0000e+00,  0.0000e+00],\n",
      "         [ 8.0902e-01,  0.0000e+00, -5.8779e-01]],\n",
      "\n",
      "        [[-3.0902e-01,  0.0000e+00, -9.5106e-01],\n",
      "         [ 0.0000e+00,  1.0000e+00,  0.0000e+00],\n",
      "         [ 9.5106e-01,  0.0000e+00, -3.0902e-01]],\n",
      "\n",
      "        [[ 4.1927e-08,  0.0000e+00, -1.0000e+00],\n",
      "         [-0.0000e+00,  1.0000e+00,  0.0000e+00],\n",
      "         [ 1.0000e+00,  0.0000e+00,  4.1927e-08]],\n",
      "\n",
      "        [[ 3.0902e-01,  0.0000e+00, -9.5106e-01],\n",
      "         [-0.0000e+00,  1.0000e+00,  0.0000e+00],\n",
      "         [ 9.5106e-01,  0.0000e+00,  3.0902e-01]],\n",
      "\n",
      "        [[ 5.8779e-01,  0.0000e+00, -8.0902e-01],\n",
      "         [-0.0000e+00,  1.0000e+00,  0.0000e+00],\n",
      "         [ 8.0902e-01,  0.0000e+00,  5.8779e-01]],\n",
      "\n",
      "        [[ 8.0902e-01,  0.0000e+00, -5.8779e-01],\n",
      "         [-0.0000e+00,  1.0000e+00,  0.0000e+00],\n",
      "         [ 5.8779e-01,  0.0000e+00,  8.0902e-01]],\n",
      "\n",
      "        [[ 9.5106e-01,  0.0000e+00, -3.0902e-01],\n",
      "         [-0.0000e+00,  1.0000e+00,  0.0000e+00],\n",
      "         [ 3.0902e-01,  0.0000e+00,  9.5106e-01]],\n",
      "\n",
      "        [[ 1.0000e+00, -0.0000e+00,  8.7423e-08],\n",
      "         [ 0.0000e+00,  1.0000e+00,  0.0000e+00],\n",
      "         [-8.7423e-08,  0.0000e+00,  1.0000e+00]],\n",
      "\n",
      "        [[ 9.5106e-01, -0.0000e+00,  3.0902e-01],\n",
      "         [ 0.0000e+00,  1.0000e+00,  0.0000e+00],\n",
      "         [-3.0902e-01,  0.0000e+00,  9.5106e-01]],\n",
      "\n",
      "        [[ 8.0902e-01, -0.0000e+00,  5.8779e-01],\n",
      "         [ 0.0000e+00,  1.0000e+00,  0.0000e+00],\n",
      "         [-5.8779e-01,  0.0000e+00,  8.0902e-01]],\n",
      "\n",
      "        [[ 5.8779e-01, -0.0000e+00,  8.0902e-01],\n",
      "         [ 0.0000e+00,  1.0000e+00,  0.0000e+00],\n",
      "         [-8.0902e-01,  0.0000e+00,  5.8779e-01]],\n",
      "\n",
      "        [[ 3.0902e-01, -0.0000e+00,  9.5106e-01],\n",
      "         [ 0.0000e+00,  1.0000e+00,  0.0000e+00],\n",
      "         [-9.5106e-01,  0.0000e+00,  3.0902e-01]],\n",
      "\n",
      "        [[-1.0482e-08,  0.0000e+00,  1.0000e+00],\n",
      "         [ 0.0000e+00,  1.0000e+00,  0.0000e+00],\n",
      "         [-1.0000e+00,  0.0000e+00, -1.0482e-08]],\n",
      "\n",
      "        [[-3.0902e-01,  0.0000e+00,  9.5106e-01],\n",
      "         [ 0.0000e+00,  1.0000e+00,  0.0000e+00],\n",
      "         [-9.5106e-01,  0.0000e+00, -3.0902e-01]],\n",
      "\n",
      "        [[-5.8779e-01,  0.0000e+00,  8.0902e-01],\n",
      "         [ 0.0000e+00,  1.0000e+00,  0.0000e+00],\n",
      "         [-8.0902e-01,  0.0000e+00, -5.8779e-01]],\n",
      "\n",
      "        [[-8.0902e-01,  0.0000e+00,  5.8779e-01],\n",
      "         [ 0.0000e+00,  1.0000e+00,  0.0000e+00],\n",
      "         [-5.8779e-01,  0.0000e+00, -8.0902e-01]],\n",
      "\n",
      "        [[-9.5106e-01,  0.0000e+00,  3.0902e-01],\n",
      "         [ 0.0000e+00,  1.0000e+00,  0.0000e+00],\n",
      "         [-3.0902e-01,  0.0000e+00, -9.5106e-01]],\n",
      "\n",
      "        [[-1.0000e+00,  0.0000e+00,  0.0000e+00],\n",
      "         [ 0.0000e+00,  1.0000e+00, -1.7452e-05],\n",
      "         [-0.0000e+00, -1.7452e-05, -1.0000e+00]],\n",
      "\n",
      "        [[-1.0000e+00,  0.0000e+00,  0.0000e+00],\n",
      "         [ 0.0000e+00,  9.4581e-01, -3.2471e-01],\n",
      "         [-0.0000e+00, -3.2471e-01, -9.4581e-01]],\n",
      "\n",
      "        [[-1.0000e+00,  0.0000e+00,  0.0000e+00],\n",
      "         [ 0.0000e+00,  7.8913e-01, -6.1422e-01],\n",
      "         [-0.0000e+00, -6.1422e-01, -7.8913e-01]],\n",
      "\n",
      "        [[-1.0000e+00,  0.0000e+00,  0.0000e+00],\n",
      "         [ 0.0000e+00,  5.4694e-01, -8.3717e-01],\n",
      "         [-0.0000e+00, -8.3717e-01, -5.4694e-01]],\n",
      "\n",
      "        [[-1.0000e+00,  0.0000e+00,  0.0000e+00],\n",
      "         [ 0.0000e+00,  2.4548e-01, -9.6940e-01],\n",
      "         [-0.0000e+00, -9.6940e-01, -2.4548e-01]],\n",
      "\n",
      "        [[ 1.0000e+00,  0.0000e+00,  0.0000e+00],\n",
      "         [ 0.0000e+00,  8.2588e-02, -9.9658e-01],\n",
      "         [-0.0000e+00,  9.9658e-01,  8.2588e-02]],\n",
      "\n",
      "        [[ 1.0000e+00,  0.0000e+00,  0.0000e+00],\n",
      "         [ 0.0000e+00,  4.0170e-01, -9.1577e-01],\n",
      "         [-0.0000e+00,  9.1577e-01,  4.0170e-01]],\n",
      "\n",
      "        [[ 1.0000e+00,  0.0000e+00,  0.0000e+00],\n",
      "         [ 0.0000e+00,  6.7728e-01, -7.3572e-01],\n",
      "         [-0.0000e+00,  7.3572e-01,  6.7728e-01]],\n",
      "\n",
      "        [[ 1.0000e+00,  0.0000e+00,  0.0000e+00],\n",
      "         [ 0.0000e+00,  8.7947e-01, -4.7595e-01],\n",
      "         [-0.0000e+00,  4.7595e-01,  8.7947e-01]],\n",
      "\n",
      "        [[ 1.0000e+00,  0.0000e+00,  0.0000e+00],\n",
      "         [ 0.0000e+00,  9.8636e-01, -1.6459e-01],\n",
      "         [-0.0000e+00,  1.6459e-01,  9.8636e-01]],\n",
      "\n",
      "        [[ 1.0000e+00,  0.0000e+00,  0.0000e+00],\n",
      "         [-0.0000e+00,  9.8636e-01,  1.6459e-01],\n",
      "         [ 0.0000e+00, -1.6459e-01,  9.8636e-01]],\n",
      "\n",
      "        [[ 1.0000e+00,  0.0000e+00,  0.0000e+00],\n",
      "         [-0.0000e+00,  8.7948e-01,  4.7595e-01],\n",
      "         [ 0.0000e+00, -4.7595e-01,  8.7948e-01]],\n",
      "\n",
      "        [[ 1.0000e+00,  0.0000e+00,  0.0000e+00],\n",
      "         [-0.0000e+00,  6.7728e-01,  7.3572e-01],\n",
      "         [ 0.0000e+00, -7.3572e-01,  6.7728e-01]],\n",
      "\n",
      "        [[ 1.0000e+00,  0.0000e+00,  0.0000e+00],\n",
      "         [-0.0000e+00,  4.0170e-01,  9.1577e-01],\n",
      "         [ 0.0000e+00, -9.1577e-01,  4.0170e-01]],\n",
      "\n",
      "        [[ 1.0000e+00,  0.0000e+00,  0.0000e+00],\n",
      "         [-0.0000e+00,  8.2587e-02,  9.9658e-01],\n",
      "         [ 0.0000e+00, -9.9658e-01,  8.2587e-02]],\n",
      "\n",
      "        [[-1.0000e+00,  0.0000e+00,  0.0000e+00],\n",
      "         [ 0.0000e+00,  2.4548e-01,  9.6940e-01],\n",
      "         [ 0.0000e+00,  9.6940e-01, -2.4548e-01]],\n",
      "\n",
      "        [[-1.0000e+00,  0.0000e+00,  0.0000e+00],\n",
      "         [ 0.0000e+00,  5.4694e-01,  8.3717e-01],\n",
      "         [ 0.0000e+00,  8.3717e-01, -5.4694e-01]],\n",
      "\n",
      "        [[-1.0000e+00,  0.0000e+00,  0.0000e+00],\n",
      "         [ 0.0000e+00,  7.8913e-01,  6.1422e-01],\n",
      "         [ 0.0000e+00,  6.1422e-01, -7.8913e-01]],\n",
      "\n",
      "        [[-1.0000e+00,  0.0000e+00,  0.0000e+00],\n",
      "         [ 0.0000e+00,  9.4581e-01,  3.2471e-01],\n",
      "         [ 0.0000e+00,  3.2471e-01, -9.4581e-01]],\n",
      "\n",
      "        [[-1.0000e+00,  0.0000e+00,  0.0000e+00],\n",
      "         [ 0.0000e+00,  1.0000e+00,  1.7468e-05],\n",
      "         [ 0.0000e+00,  1.7468e-05, -1.0000e+00]]], device='cuda:0')\n",
      "camera T: tensor([[ 3.0041e-05, -5.8627e+00,  9.6804e+01],\n",
      "        [-1.7981e+00, -5.8627e+00,  9.6519e+01],\n",
      "        [-3.4202e+00, -5.8627e+00,  9.5693e+01],\n",
      "        [-4.7075e+00, -5.8627e+00,  9.4405e+01],\n",
      "        [-5.5340e+00, -5.8627e+00,  9.2783e+01],\n",
      "        [-5.8188e+00, -5.8627e+00,  9.0985e+01],\n",
      "        [-5.5340e+00, -5.8627e+00,  8.9187e+01],\n",
      "        [-4.7075e+00, -5.8627e+00,  8.7565e+01],\n",
      "        [-3.4202e+00, -5.8627e+00,  8.6278e+01],\n",
      "        [-1.7981e+00, -5.8627e+00,  8.5451e+01],\n",
      "        [-2.9532e-05, -5.8627e+00,  8.5166e+01],\n",
      "        [ 1.7981e+00, -5.8627e+00,  8.5451e+01],\n",
      "        [ 3.4202e+00, -5.8627e+00,  8.6278e+01],\n",
      "        [ 4.7075e+00, -5.8627e+00,  8.7565e+01],\n",
      "        [ 5.5340e+00, -5.8627e+00,  8.9187e+01],\n",
      "        [ 5.8188e+00, -5.8627e+00,  9.0985e+01],\n",
      "        [ 5.5340e+00, -5.8627e+00,  9.2783e+01],\n",
      "        [ 4.7075e+00, -5.8627e+00,  9.4405e+01],\n",
      "        [ 3.4202e+00, -5.8627e+00,  9.5693e+01],\n",
      "        [ 1.7981e+00, -5.8627e+00,  9.6519e+01],\n",
      "        [ 3.0041e-05, -5.8626e+00,  9.6804e+01],\n",
      "        [ 3.0041e-05, -3.6556e+00,  9.8392e+01],\n",
      "        [ 3.0041e-05, -1.0524e+00,  9.9178e+01],\n",
      "        [ 3.0041e-05,  1.6648e+00,  9.9076e+01],\n",
      "        [ 3.0041e-05,  4.2016e+00,  9.8097e+01],\n",
      "        [-3.0041e-05, -6.2831e+00,  9.6347e+01],\n",
      "        [-3.0041e-05, -7.6837e+00,  9.4017e+01],\n",
      "        [-3.0041e-05, -8.2517e+00,  9.1358e+01],\n",
      "        [-3.0041e-05, -7.9255e+00,  8.8658e+01],\n",
      "        [-3.0041e-05, -6.7405e+00,  8.6211e+01],\n",
      "        [-3.0041e-05, -4.8250e+00,  8.4281e+01],\n",
      "        [-3.0041e-05, -2.3867e+00,  8.3077e+01],\n",
      "        [-3.0041e-05,  3.1027e-01,  8.2731e+01],\n",
      "        [-3.0041e-05,  2.9736e+00,  8.3279e+01],\n",
      "        [-3.0041e-05,  5.3147e+00,  8.4662e+01],\n",
      "        [ 3.0041e-05, -7.0799e+00,  8.6730e+01],\n",
      "        [ 3.0041e-05, -8.0778e+00,  8.9260e+01],\n",
      "        [ 3.0041e-05, -8.2005e+00,  9.1976e+01],\n",
      "        [ 3.0041e-05, -7.4344e+00,  9.4585e+01],\n",
      "        [ 3.0041e-05, -5.8628e+00,  9.6804e+01]], device='cuda:0')\n",
      "depth shape:  torch.Size([40, 512, 512, 1])\n",
      "Video saved to output.mp4\n",
      "\n"
     ]
    },
    {
     "name": "stderr",
     "output_type": "stream",
     "text": [
      "  0%|                                                                                                                                                                                                                                     | 0/40 [00:00<?, ?it/s]"
     ]
    },
    {
     "name": "stdout",
     "output_type": "stream",
     "text": [
      "Type: <class 'list'>\n",
      "Length: 2\n",
      "First element type: <class 'torch.Tensor'>\n",
      "Second element type: <class 'list'>\n"
     ]
    },
    {
     "name": "stderr",
     "output_type": "stream",
     "text": [
      "  2%|█████▌                                                                                                                                                                                                                       | 1/40 [00:04<03:06,  4.79s/it]"
     ]
    },
    {
     "name": "stdout",
     "output_type": "stream",
     "text": [
      "Type: <class 'list'>\n",
      "Length: 2\n",
      "First element type: <class 'torch.Tensor'>\n",
      "Second element type: <class 'list'>\n"
     ]
    },
    {
     "name": "stderr",
     "output_type": "stream",
     "text": [
      "  5%|███████████                                                                                                                                                                                                                  | 2/40 [00:08<02:41,  4.26s/it]"
     ]
    },
    {
     "name": "stdout",
     "output_type": "stream",
     "text": [
      "Type: <class 'list'>\n",
      "Length: 2\n",
      "First element type: <class 'torch.Tensor'>\n",
      "Second element type: <class 'list'>\n"
     ]
    },
    {
     "name": "stderr",
     "output_type": "stream",
     "text": [
      "  8%|████████████████▌                                                                                                                                                                                                            | 3/40 [00:12<02:33,  4.14s/it]"
     ]
    },
    {
     "name": "stdout",
     "output_type": "stream",
     "text": [
      "Type: <class 'list'>\n",
      "Length: 2\n",
      "First element type: <class 'torch.Tensor'>\n",
      "Second element type: <class 'list'>\n"
     ]
    },
    {
     "name": "stderr",
     "output_type": "stream",
     "text": [
      " 10%|██████████████████████                                                                                                                                                                                                       | 4/40 [00:17<02:32,  4.25s/it]"
     ]
    },
    {
     "name": "stdout",
     "output_type": "stream",
     "text": [
      "Type: <class 'list'>\n",
      "Length: 2\n",
      "First element type: <class 'torch.Tensor'>\n",
      "Second element type: <class 'list'>\n"
     ]
    },
    {
     "name": "stderr",
     "output_type": "stream",
     "text": [
      " 12%|███████████████████████████▋                                                                                                                                                                                                 | 5/40 [00:21<02:31,  4.34s/it]"
     ]
    },
    {
     "name": "stdout",
     "output_type": "stream",
     "text": [
      "Type: <class 'list'>\n",
      "Length: 2\n",
      "First element type: <class 'torch.Tensor'>\n",
      "Second element type: <class 'list'>\n"
     ]
    },
    {
     "name": "stderr",
     "output_type": "stream",
     "text": [
      " 15%|█████████████████████████████████▏                                                                                                                                                                                           | 6/40 [00:25<02:23,  4.22s/it]"
     ]
    },
    {
     "name": "stdout",
     "output_type": "stream",
     "text": [
      "Type: <class 'list'>\n",
      "Length: 2\n",
      "First element type: <class 'torch.Tensor'>\n",
      "Second element type: <class 'list'>\n"
     ]
    },
    {
     "name": "stderr",
     "output_type": "stream",
     "text": [
      " 18%|██████████████████████████████████████▋                                                                                                                                                                                      | 7/40 [00:30<02:23,  4.35s/it]"
     ]
    },
    {
     "name": "stdout",
     "output_type": "stream",
     "text": [
      "Type: <class 'list'>\n",
      "Length: 2\n",
      "First element type: <class 'torch.Tensor'>\n",
      "Second element type: <class 'list'>\n"
     ]
    },
    {
     "name": "stderr",
     "output_type": "stream",
     "text": [
      " 20%|████████████████████████████████████████████▏                                                                                                                                                                                | 8/40 [00:34<02:15,  4.23s/it]"
     ]
    },
    {
     "name": "stdout",
     "output_type": "stream",
     "text": [
      "Type: <class 'list'>\n",
      "Length: 2\n",
      "First element type: <class 'torch.Tensor'>\n",
      "Second element type: <class 'list'>\n"
     ]
    },
    {
     "name": "stderr",
     "output_type": "stream",
     "text": [
      " 22%|█████████████████████████████████████████████████▋                                                                                                                                                                           | 9/40 [00:38<02:11,  4.23s/it]"
     ]
    },
    {
     "name": "stdout",
     "output_type": "stream",
     "text": [
      "Type: <class 'list'>\n",
      "Length: 2\n",
      "First element type: <class 'torch.Tensor'>\n",
      "Second element type: <class 'list'>\n"
     ]
    },
    {
     "name": "stderr",
     "output_type": "stream",
     "text": [
      " 25%|███████████████████████████████████████████████████████                                                                                                                                                                     | 10/40 [00:42<02:08,  4.28s/it]"
     ]
    },
    {
     "name": "stdout",
     "output_type": "stream",
     "text": [
      "Type: <class 'list'>\n",
      "Length: 2\n",
      "First element type: <class 'torch.Tensor'>\n",
      "Second element type: <class 'list'>\n"
     ]
    },
    {
     "name": "stderr",
     "output_type": "stream",
     "text": [
      " 28%|████████████████████████████████████████████████████████████▌                                                                                                                                                               | 11/40 [00:46<02:02,  4.22s/it]"
     ]
    },
    {
     "name": "stdout",
     "output_type": "stream",
     "text": [
      "Type: <class 'list'>\n",
      "Length: 2\n",
      "First element type: <class 'torch.Tensor'>\n",
      "Second element type: <class 'list'>\n"
     ]
    },
    {
     "name": "stderr",
     "output_type": "stream",
     "text": [
      " 30%|██████████████████████████████████████████████████████████████████                                                                                                                                                          | 12/40 [00:51<01:59,  4.28s/it]"
     ]
    },
    {
     "name": "stdout",
     "output_type": "stream",
     "text": [
      "Type: <class 'list'>\n",
      "Length: 2\n",
      "First element type: <class 'torch.Tensor'>\n",
      "Second element type: <class 'list'>\n"
     ]
    },
    {
     "name": "stderr",
     "output_type": "stream",
     "text": [
      " 32%|███████████████████████████████████████████████████████████████████████▌                                                                                                                                                    | 13/40 [00:55<01:53,  4.19s/it]"
     ]
    },
    {
     "name": "stdout",
     "output_type": "stream",
     "text": [
      "Type: <class 'list'>\n",
      "Length: 2\n",
      "First element type: <class 'torch.Tensor'>\n",
      "Second element type: <class 'list'>\n"
     ]
    },
    {
     "name": "stderr",
     "output_type": "stream",
     "text": [
      " 35%|█████████████████████████████████████████████████████████████████████████████                                                                                                                                               | 14/40 [00:59<01:49,  4.20s/it]"
     ]
    },
    {
     "name": "stdout",
     "output_type": "stream",
     "text": [
      "Type: <class 'list'>\n",
      "Length: 2\n",
      "First element type: <class 'torch.Tensor'>\n",
      "Second element type: <class 'list'>\n"
     ]
    },
    {
     "name": "stderr",
     "output_type": "stream",
     "text": [
      " 38%|██████████████████████████████████████████████████████████████████████████████████▌                                                                                                                                         | 15/40 [01:03<01:44,  4.20s/it]"
     ]
    },
    {
     "name": "stdout",
     "output_type": "stream",
     "text": [
      "Type: <class 'list'>\n",
      "Length: 2\n",
      "First element type: <class 'torch.Tensor'>\n",
      "Second element type: <class 'list'>\n"
     ]
    },
    {
     "name": "stderr",
     "output_type": "stream",
     "text": [
      " 40%|████████████████████████████████████████████████████████████████████████████████████████                                                                                                                                    | 16/40 [01:08<01:43,  4.32s/it]"
     ]
    },
    {
     "name": "stdout",
     "output_type": "stream",
     "text": [
      "Type: <class 'list'>\n",
      "Length: 2\n",
      "First element type: <class 'torch.Tensor'>\n",
      "Second element type: <class 'list'>\n"
     ]
    },
    {
     "name": "stderr",
     "output_type": "stream",
     "text": [
      " 42%|█████████████████████████████████████████████████████████████████████████████████████████████▌                                                                                                                              | 17/40 [01:12<01:39,  4.31s/it]"
     ]
    },
    {
     "name": "stdout",
     "output_type": "stream",
     "text": [
      "Type: <class 'list'>\n",
      "Length: 2\n",
      "First element type: <class 'torch.Tensor'>\n",
      "Second element type: <class 'list'>\n"
     ]
    },
    {
     "name": "stderr",
     "output_type": "stream",
     "text": [
      " 45%|███████████████████████████████████████████████████████████████████████████████████████████████████                                                                                                                         | 18/40 [01:17<01:36,  4.37s/it]"
     ]
    },
    {
     "name": "stdout",
     "output_type": "stream",
     "text": [
      "Type: <class 'list'>\n",
      "Length: 2\n",
      "First element type: <class 'torch.Tensor'>\n",
      "Second element type: <class 'list'>\n"
     ]
    },
    {
     "name": "stderr",
     "output_type": "stream",
     "text": [
      " 48%|████████████████████████████████████████████████████████████████████████████████████████████████████████▌                                                                                                                   | 19/40 [01:21<01:30,  4.32s/it]"
     ]
    },
    {
     "name": "stdout",
     "output_type": "stream",
     "text": [
      "Type: <class 'list'>\n",
      "Length: 2\n",
      "First element type: <class 'torch.Tensor'>\n",
      "Second element type: <class 'list'>\n"
     ]
    },
    {
     "name": "stderr",
     "output_type": "stream",
     "text": [
      " 50%|██████████████████████████████████████████████████████████████████████████████████████████████████████████████                                                                                                              | 20/40 [01:25<01:26,  4.31s/it]"
     ]
    },
    {
     "name": "stdout",
     "output_type": "stream",
     "text": [
      "Type: <class 'list'>\n",
      "Length: 2\n",
      "First element type: <class 'torch.Tensor'>\n",
      "Second element type: <class 'list'>\n"
     ]
    },
    {
     "name": "stderr",
     "output_type": "stream",
     "text": [
      " 52%|███████████████████████████████████████████████████████████████████████████████████████████████████████████████████▌                                                                                                        | 21/40 [01:29<01:21,  4.28s/it]"
     ]
    },
    {
     "name": "stdout",
     "output_type": "stream",
     "text": [
      "Type: <class 'list'>\n",
      "Length: 2\n",
      "First element type: <class 'torch.Tensor'>\n",
      "Second element type: <class 'list'>\n"
     ]
    },
    {
     "name": "stderr",
     "output_type": "stream",
     "text": [
      " 55%|█████████████████████████████████████████████████████████████████████████████████████████████████████████████████████████                                                                                                   | 22/40 [01:33<01:16,  4.22s/it]"
     ]
    },
    {
     "name": "stdout",
     "output_type": "stream",
     "text": [
      "Type: <class 'list'>\n",
      "Length: 2\n",
      "First element type: <class 'torch.Tensor'>\n",
      "Second element type: <class 'list'>\n"
     ]
    },
    {
     "name": "stderr",
     "output_type": "stream",
     "text": [
      " 57%|██████████████████████████████████████████████████████████████████████████████████████████████████████████████████████████████▍                                                                                             | 23/40 [01:38<01:12,  4.28s/it]"
     ]
    },
    {
     "name": "stdout",
     "output_type": "stream",
     "text": [
      "Type: <class 'list'>\n",
      "Length: 2\n",
      "First element type: <class 'torch.Tensor'>\n",
      "Second element type: <class 'list'>\n"
     ]
    },
    {
     "name": "stderr",
     "output_type": "stream",
     "text": [
      " 60%|████████████████████████████████████████████████████████████████████████████████████████████████████████████████████████████████████                                                                                        | 24/40 [01:42<01:07,  4.20s/it]"
     ]
    },
    {
     "name": "stdout",
     "output_type": "stream",
     "text": [
      "Type: <class 'list'>\n",
      "Length: 2\n",
      "First element type: <class 'torch.Tensor'>\n",
      "Second element type: <class 'list'>\n"
     ]
    },
    {
     "name": "stderr",
     "output_type": "stream",
     "text": [
      " 62%|█████████████████████████████████████████████████████████████████████████████████████████████████████████████████████████████████████████▌                                                                                  | 25/40 [01:46<01:04,  4.29s/it]"
     ]
    },
    {
     "name": "stdout",
     "output_type": "stream",
     "text": [
      "Type: <class 'list'>\n",
      "Length: 2\n",
      "First element type: <class 'torch.Tensor'>\n",
      "Second element type: <class 'list'>\n"
     ]
    },
    {
     "name": "stderr",
     "output_type": "stream",
     "text": [
      " 65%|███████████████████████████████████████████████████████████████████████████████████████████████████████████████████████████████████████████████                                                                             | 26/40 [01:50<00:58,  4.20s/it]"
     ]
    },
    {
     "name": "stdout",
     "output_type": "stream",
     "text": [
      "Type: <class 'list'>\n",
      "Length: 2\n",
      "First element type: <class 'torch.Tensor'>\n",
      "Second element type: <class 'list'>\n"
     ]
    },
    {
     "name": "stderr",
     "output_type": "stream",
     "text": [
      " 68%|████████████████████████████████████████████████████████████████████████████████████████████████████████████████████████████████████████████████████▌                                                                       | 27/40 [01:54<00:53,  4.14s/it]"
     ]
    },
    {
     "name": "stdout",
     "output_type": "stream",
     "text": [
      "Type: <class 'list'>\n",
      "Length: 2\n",
      "First element type: <class 'torch.Tensor'>\n",
      "Second element type: <class 'list'>\n"
     ]
    },
    {
     "name": "stderr",
     "output_type": "stream",
     "text": [
      " 70%|██████████████████████████████████████████████████████████████████████████████████████████████████████████████████████████████████████████████████████████                                                                  | 28/40 [01:59<00:52,  4.37s/it]"
     ]
    },
    {
     "name": "stdout",
     "output_type": "stream",
     "text": [
      "Type: <class 'list'>\n",
      "Length: 2\n",
      "First element type: <class 'torch.Tensor'>\n",
      "Second element type: <class 'list'>\n"
     ]
    },
    {
     "name": "stderr",
     "output_type": "stream",
     "text": [
      " 72%|███████████████████████████████████████████████████████████████████████████████████████████████████████████████████████████████████████████████████████████████▌                                                            | 29/40 [02:03<00:47,  4.29s/it]"
     ]
    },
    {
     "name": "stdout",
     "output_type": "stream",
     "text": [
      "Type: <class 'list'>\n",
      "Length: 2\n",
      "First element type: <class 'torch.Tensor'>\n",
      "Second element type: <class 'list'>\n"
     ]
    },
    {
     "name": "stderr",
     "output_type": "stream",
     "text": [
      " 75%|█████████████████████████████████████████████████████████████████████████████████████████████████████████████████████████████████████████████████████████████████████                                                       | 30/40 [02:07<00:42,  4.26s/it]"
     ]
    },
    {
     "name": "stdout",
     "output_type": "stream",
     "text": [
      "Type: <class 'list'>\n",
      "Length: 2\n",
      "First element type: <class 'torch.Tensor'>\n",
      "Second element type: <class 'list'>\n"
     ]
    },
    {
     "name": "stderr",
     "output_type": "stream",
     "text": [
      " 78%|██████████████████████████████████████████████████████████████████████████████████████████████████████████████████████████████████████████████████████████████████████████▌                                                 | 31/40 [02:12<00:38,  4.27s/it]"
     ]
    },
    {
     "name": "stdout",
     "output_type": "stream",
     "text": [
      "Type: <class 'list'>\n",
      "Length: 2\n",
      "First element type: <class 'torch.Tensor'>\n",
      "Second element type: <class 'list'>\n"
     ]
    },
    {
     "name": "stderr",
     "output_type": "stream",
     "text": [
      " 80%|████████████████████████████████████████████████████████████████████████████████████████████████████████████████████████████████████████████████████████████████████████████████                                            | 32/40 [02:16<00:33,  4.19s/it]"
     ]
    },
    {
     "name": "stdout",
     "output_type": "stream",
     "text": [
      "Type: <class 'list'>\n",
      "Length: 2\n",
      "First element type: <class 'torch.Tensor'>\n",
      "Second element type: <class 'list'>\n"
     ]
    },
    {
     "name": "stderr",
     "output_type": "stream",
     "text": [
      " 82%|█████████████████████████████████████████████████████████████████████████████████████████████████████████████████████████████████████████████████████████████████████████████████████▌                                      | 33/40 [02:20<00:29,  4.20s/it]"
     ]
    },
    {
     "name": "stdout",
     "output_type": "stream",
     "text": [
      "Type: <class 'list'>\n",
      "Length: 2\n",
      "First element type: <class 'torch.Tensor'>\n",
      "Second element type: <class 'list'>\n"
     ]
    },
    {
     "name": "stderr",
     "output_type": "stream",
     "text": [
      " 85%|███████████████████████████████████████████████████████████████████████████████████████████████████████████████████████████████████████████████████████████████████████████████████████████                                 | 34/40 [02:24<00:25,  4.19s/it]"
     ]
    },
    {
     "name": "stdout",
     "output_type": "stream",
     "text": [
      "Type: <class 'list'>\n",
      "Length: 2\n",
      "First element type: <class 'torch.Tensor'>\n",
      "Second element type: <class 'list'>\n"
     ]
    },
    {
     "name": "stderr",
     "output_type": "stream",
     "text": [
      " 88%|████████████████████████████████████████████████████████████████████████████████████████████████████████████████████████████████████████████████████████████████████████████████████████████████▌                           | 35/40 [02:28<00:20,  4.11s/it]"
     ]
    },
    {
     "name": "stdout",
     "output_type": "stream",
     "text": [
      "Type: <class 'list'>\n",
      "Length: 2\n",
      "First element type: <class 'torch.Tensor'>\n",
      "Second element type: <class 'list'>\n"
     ]
    },
    {
     "name": "stderr",
     "output_type": "stream",
     "text": [
      " 90%|██████████████████████████████████████████████████████████████████████████████████████████████████████████████████████████████████████████████████████████████████████████████████████████████████████                      | 36/40 [02:32<00:16,  4.19s/it]"
     ]
    },
    {
     "name": "stdout",
     "output_type": "stream",
     "text": [
      "Type: <class 'list'>\n",
      "Length: 2\n",
      "First element type: <class 'torch.Tensor'>\n",
      "Second element type: <class 'list'>\n"
     ]
    },
    {
     "name": "stderr",
     "output_type": "stream",
     "text": [
      " 92%|███████████████████████████████████████████████████████████████████████████████████████████████████████████████████████████████████████████████████████████████████████████████████████████████████████████▌                | 37/40 [02:37<00:12,  4.23s/it]"
     ]
    },
    {
     "name": "stdout",
     "output_type": "stream",
     "text": [
      "Type: <class 'list'>\n",
      "Length: 2\n",
      "First element type: <class 'torch.Tensor'>\n",
      "Second element type: <class 'list'>\n"
     ]
    },
    {
     "name": "stderr",
     "output_type": "stream",
     "text": [
      " 95%|█████████████████████████████████████████████████████████████████████████████████████████████████████████████████████████████████████████████████████████████████████████████████████████████████████████████████           | 38/40 [02:41<00:08,  4.25s/it]"
     ]
    },
    {
     "name": "stdout",
     "output_type": "stream",
     "text": [
      "Type: <class 'list'>\n",
      "Length: 2\n",
      "First element type: <class 'torch.Tensor'>\n",
      "Second element type: <class 'list'>\n"
     ]
    },
    {
     "name": "stderr",
     "output_type": "stream",
     "text": [
      " 98%|██████████████████████████████████████████████████████████████████████████████████████████████████████████████████████████████████████████████████████████████████████████████████████████████████████████████████████▌     | 39/40 [02:45<00:04,  4.29s/it]"
     ]
    },
    {
     "name": "stdout",
     "output_type": "stream",
     "text": [
      "Type: <class 'list'>\n",
      "Length: 2\n",
      "First element type: <class 'torch.Tensor'>\n",
      "Second element type: <class 'list'>\n"
     ]
    },
    {
     "name": "stderr",
     "output_type": "stream",
     "text": [
      "100%|████████████████████████████████████████████████████████████████████████████████████████████████████████████████████████████████████████████████████████████████████████████████████████████████████████████████████████████| 40/40 [02:50<00:00,  4.26s/it]"
     ]
    },
    {
     "name": "stdout",
     "output_type": "stream",
     "text": [
      "Number of missing features:  1\n",
      "Copied features from nearest vertices\n",
      "Time taken in mins:  2.9083128611246747\n"
     ]
    },
    {
     "name": "stderr",
     "output_type": "stream",
     "text": [
      "\n"
     ]
    }
   ],
   "source": [
    "f_target = compute_features(device, pipe, dino_model, target_mesh, \"camel\")"
   ]
  },
  {
   "cell_type": "code",
   "execution_count": 8,
   "metadata": {},
   "outputs": [],
   "source": [
    "s = cosine_similarity(f_source.to(device),f_target.to(device))\n",
    "s = torch.argmax(s, dim=0).cpu().numpy()\n",
    "cmap_source = get_colors(source_mesh.vert); cmap_target = cmap_source[s]"
   ]
  },
  {
   "cell_type": "code",
   "execution_count": 9,
   "metadata": {},
   "outputs": [
    {
     "data": {
      "application/vnd.jupyter.widget-view+json": {
       "model_id": "879fbf260f1c4b73a4c9cab46cf53cb1",
       "version_major": 2,
       "version_minor": 0
      },
      "text/plain": [
       "HBox(children=(Output(), Output()))"
      ]
     },
     "metadata": {},
     "output_type": "display_data"
    },
    {
     "data": {
      "application/vnd.jupyter.widget-view+json": {
       "model_id": "2c9ec5b357ec4e7d9f48897e2506a0a2",
       "version_major": 2,
       "version_minor": 0
      },
      "text/plain": [
       "HBox(children=(Output(), Output()))"
      ]
     },
     "metadata": {},
     "output_type": "display_data"
    }
   ],
   "source": [
    "double_plot(source_mesh,target_mesh,cmap_source,cmap_target)  "
   ]
  },
  {
   "cell_type": "markdown",
   "metadata": {},
   "source": [
    "# Apply functional map on features"
   ]
  },
  {
   "cell_type": "code",
   "execution_count": 10,
   "metadata": {},
   "outputs": [
    {
     "name": "stdout",
     "output_type": "stream",
     "text": [
      "Starting batch_render with num_views=20, H=512, W=512\n",
      "Rendering completed successfully\n",
      "Starting batch_render with num_views=20, H=512, W=512\n",
      "Rendering completed successfully\n",
      "batched_renderings shape:  torch.Size([40, 512, 512, 4])\n",
      "normal_batched_renderings shape:  torch.Size([40, 512, 512, 1, 3])\n",
      "camera R: tensor([[[-1.0000e+00,  0.0000e+00,  0.0000e+00],\n",
      "         [ 0.0000e+00,  1.0000e+00,  0.0000e+00],\n",
      "         [ 0.0000e+00,  0.0000e+00, -1.0000e+00]],\n",
      "\n",
      "        [[-9.5106e-01,  0.0000e+00, -3.0902e-01],\n",
      "         [ 0.0000e+00,  1.0000e+00,  0.0000e+00],\n",
      "         [ 3.0902e-01,  0.0000e+00, -9.5106e-01]],\n",
      "\n",
      "        [[-8.0902e-01,  0.0000e+00, -5.8779e-01],\n",
      "         [ 0.0000e+00,  1.0000e+00,  0.0000e+00],\n",
      "         [ 5.8779e-01,  0.0000e+00, -8.0902e-01]],\n",
      "\n",
      "        [[-5.8779e-01,  0.0000e+00, -8.0902e-01],\n",
      "         [ 0.0000e+00,  1.0000e+00,  0.0000e+00],\n",
      "         [ 8.0902e-01,  0.0000e+00, -5.8779e-01]],\n",
      "\n",
      "        [[-3.0902e-01,  0.0000e+00, -9.5106e-01],\n",
      "         [ 0.0000e+00,  1.0000e+00,  0.0000e+00],\n",
      "         [ 9.5106e-01,  0.0000e+00, -3.0902e-01]],\n",
      "\n",
      "        [[ 4.4703e-08,  0.0000e+00, -1.0000e+00],\n",
      "         [-0.0000e+00,  1.0000e+00,  0.0000e+00],\n",
      "         [ 1.0000e+00,  0.0000e+00,  4.4703e-08]],\n",
      "\n",
      "        [[ 3.0902e-01,  0.0000e+00, -9.5106e-01],\n",
      "         [-0.0000e+00,  1.0000e+00,  0.0000e+00],\n",
      "         [ 9.5106e-01,  0.0000e+00,  3.0902e-01]],\n",
      "\n",
      "        [[ 5.8779e-01,  0.0000e+00, -8.0902e-01],\n",
      "         [-0.0000e+00,  1.0000e+00,  0.0000e+00],\n",
      "         [ 8.0902e-01,  0.0000e+00,  5.8779e-01]],\n",
      "\n",
      "        [[ 8.0902e-01,  0.0000e+00, -5.8779e-01],\n",
      "         [-0.0000e+00,  1.0000e+00,  0.0000e+00],\n",
      "         [ 5.8779e-01,  0.0000e+00,  8.0902e-01]],\n",
      "\n",
      "        [[ 9.5106e-01,  0.0000e+00, -3.0902e-01],\n",
      "         [-0.0000e+00,  1.0000e+00,  0.0000e+00],\n",
      "         [ 3.0902e-01,  0.0000e+00,  9.5106e-01]],\n",
      "\n",
      "        [[ 1.0000e+00, -0.0000e+00,  8.7428e-08],\n",
      "         [ 0.0000e+00,  1.0000e+00,  0.0000e+00],\n",
      "         [-8.7428e-08,  0.0000e+00,  1.0000e+00]],\n",
      "\n",
      "        [[ 9.5106e-01, -0.0000e+00,  3.0902e-01],\n",
      "         [ 0.0000e+00,  1.0000e+00,  0.0000e+00],\n",
      "         [-3.0902e-01,  0.0000e+00,  9.5106e-01]],\n",
      "\n",
      "        [[ 8.0902e-01, -0.0000e+00,  5.8779e-01],\n",
      "         [ 0.0000e+00,  1.0000e+00,  0.0000e+00],\n",
      "         [-5.8779e-01,  0.0000e+00,  8.0902e-01]],\n",
      "\n",
      "        [[ 5.8779e-01, -0.0000e+00,  8.0902e-01],\n",
      "         [ 0.0000e+00,  1.0000e+00,  0.0000e+00],\n",
      "         [-8.0902e-01,  0.0000e+00,  5.8779e-01]],\n",
      "\n",
      "        [[ 3.0902e-01, -0.0000e+00,  9.5106e-01],\n",
      "         [ 0.0000e+00,  1.0000e+00,  0.0000e+00],\n",
      "         [-9.5106e-01,  0.0000e+00,  3.0902e-01]],\n",
      "\n",
      "        [[-1.1176e-08,  0.0000e+00,  1.0000e+00],\n",
      "         [ 0.0000e+00,  1.0000e+00,  0.0000e+00],\n",
      "         [-1.0000e+00,  0.0000e+00, -1.1176e-08]],\n",
      "\n",
      "        [[-3.0902e-01,  0.0000e+00,  9.5106e-01],\n",
      "         [ 0.0000e+00,  1.0000e+00,  0.0000e+00],\n",
      "         [-9.5106e-01,  0.0000e+00, -3.0902e-01]],\n",
      "\n",
      "        [[-5.8779e-01,  0.0000e+00,  8.0902e-01],\n",
      "         [ 0.0000e+00,  1.0000e+00,  0.0000e+00],\n",
      "         [-8.0902e-01,  0.0000e+00, -5.8779e-01]],\n",
      "\n",
      "        [[-8.0902e-01,  0.0000e+00,  5.8779e-01],\n",
      "         [ 0.0000e+00,  1.0000e+00,  0.0000e+00],\n",
      "         [-5.8779e-01,  0.0000e+00, -8.0902e-01]],\n",
      "\n",
      "        [[-9.5106e-01,  0.0000e+00,  3.0902e-01],\n",
      "         [ 0.0000e+00,  1.0000e+00,  0.0000e+00],\n",
      "         [-3.0902e-01,  0.0000e+00, -9.5106e-01]],\n",
      "\n",
      "        [[-1.0000e+00,  0.0000e+00,  0.0000e+00],\n",
      "         [ 0.0000e+00,  1.0000e+00, -1.7449e-05],\n",
      "         [-0.0000e+00, -1.7449e-05, -1.0000e+00]],\n",
      "\n",
      "        [[-1.0000e+00,  0.0000e+00,  0.0000e+00],\n",
      "         [ 0.0000e+00,  9.4581e-01, -3.2471e-01],\n",
      "         [-0.0000e+00, -3.2471e-01, -9.4581e-01]],\n",
      "\n",
      "        [[-1.0000e+00,  0.0000e+00,  0.0000e+00],\n",
      "         [ 0.0000e+00,  7.8913e-01, -6.1422e-01],\n",
      "         [-0.0000e+00, -6.1422e-01, -7.8913e-01]],\n",
      "\n",
      "        [[-1.0000e+00,  0.0000e+00,  0.0000e+00],\n",
      "         [ 0.0000e+00,  5.4694e-01, -8.3717e-01],\n",
      "         [-0.0000e+00, -8.3717e-01, -5.4694e-01]],\n",
      "\n",
      "        [[-1.0000e+00,  0.0000e+00,  0.0000e+00],\n",
      "         [ 0.0000e+00,  2.4548e-01, -9.6940e-01],\n",
      "         [-0.0000e+00, -9.6940e-01, -2.4548e-01]],\n",
      "\n",
      "        [[ 1.0000e+00,  0.0000e+00,  0.0000e+00],\n",
      "         [ 0.0000e+00,  8.2588e-02, -9.9658e-01],\n",
      "         [-0.0000e+00,  9.9658e-01,  8.2588e-02]],\n",
      "\n",
      "        [[ 1.0000e+00,  0.0000e+00,  0.0000e+00],\n",
      "         [ 0.0000e+00,  4.0170e-01, -9.1577e-01],\n",
      "         [-0.0000e+00,  9.1577e-01,  4.0170e-01]],\n",
      "\n",
      "        [[ 1.0000e+00,  0.0000e+00,  0.0000e+00],\n",
      "         [ 0.0000e+00,  6.7728e-01, -7.3572e-01],\n",
      "         [-0.0000e+00,  7.3572e-01,  6.7728e-01]],\n",
      "\n",
      "        [[ 1.0000e+00,  0.0000e+00,  0.0000e+00],\n",
      "         [ 0.0000e+00,  8.7947e-01, -4.7595e-01],\n",
      "         [-0.0000e+00,  4.7595e-01,  8.7947e-01]],\n",
      "\n",
      "        [[ 1.0000e+00,  0.0000e+00,  0.0000e+00],\n",
      "         [ 0.0000e+00,  9.8636e-01, -1.6459e-01],\n",
      "         [-0.0000e+00,  1.6459e-01,  9.8636e-01]],\n",
      "\n",
      "        [[ 1.0000e+00,  0.0000e+00,  0.0000e+00],\n",
      "         [-0.0000e+00,  9.8636e-01,  1.6459e-01],\n",
      "         [ 0.0000e+00, -1.6459e-01,  9.8636e-01]],\n",
      "\n",
      "        [[ 1.0000e+00,  0.0000e+00,  0.0000e+00],\n",
      "         [-0.0000e+00,  8.7948e-01,  4.7595e-01],\n",
      "         [ 0.0000e+00, -4.7595e-01,  8.7948e-01]],\n",
      "\n",
      "        [[ 1.0000e+00,  0.0000e+00,  0.0000e+00],\n",
      "         [-0.0000e+00,  6.7728e-01,  7.3572e-01],\n",
      "         [ 0.0000e+00, -7.3572e-01,  6.7728e-01]],\n",
      "\n",
      "        [[ 1.0000e+00,  0.0000e+00,  0.0000e+00],\n",
      "         [-0.0000e+00,  4.0170e-01,  9.1577e-01],\n",
      "         [ 0.0000e+00, -9.1577e-01,  4.0170e-01]],\n",
      "\n",
      "        [[ 1.0000e+00,  0.0000e+00,  0.0000e+00],\n",
      "         [-0.0000e+00,  8.2587e-02,  9.9658e-01],\n",
      "         [ 0.0000e+00, -9.9658e-01,  8.2587e-02]],\n",
      "\n",
      "        [[-1.0000e+00,  0.0000e+00,  0.0000e+00],\n",
      "         [ 0.0000e+00,  2.4548e-01,  9.6940e-01],\n",
      "         [ 0.0000e+00,  9.6940e-01, -2.4548e-01]],\n",
      "\n",
      "        [[-1.0000e+00,  0.0000e+00,  0.0000e+00],\n",
      "         [ 0.0000e+00,  5.4694e-01,  8.3717e-01],\n",
      "         [ 0.0000e+00,  8.3717e-01, -5.4694e-01]],\n",
      "\n",
      "        [[-1.0000e+00,  0.0000e+00,  0.0000e+00],\n",
      "         [ 0.0000e+00,  7.8913e-01,  6.1422e-01],\n",
      "         [ 0.0000e+00,  6.1422e-01, -7.8913e-01]],\n",
      "\n",
      "        [[-1.0000e+00,  0.0000e+00,  0.0000e+00],\n",
      "         [ 0.0000e+00,  9.4581e-01,  3.2471e-01],\n",
      "         [ 0.0000e+00,  3.2471e-01, -9.4581e-01]],\n",
      "\n",
      "        [[-1.0000e+00,  0.0000e+00,  0.0000e+00],\n",
      "         [ 0.0000e+00,  1.0000e+00,  1.7464e-05],\n",
      "         [ 0.0000e+00,  1.7464e-05, -1.0000e+00]]], device='cuda:0')\n",
      "camera T: tensor([[-9.5700e-04, -1.9156e-01,  9.4387e-01],\n",
      "        [ 1.6434e-02, -1.9156e-01,  9.4632e-01],\n",
      "        [ 3.2216e-02, -1.9156e-01,  9.5403e-01],\n",
      "        [ 4.4845e-02, -1.9156e-01,  9.6624e-01],\n",
      "        [ 5.3084e-02, -1.9156e-01,  9.8175e-01],\n",
      "        [ 5.6127e-02, -1.9156e-01,  9.9904e-01],\n",
      "        [ 5.3676e-02, -1.9156e-01,  1.0164e+00],\n",
      "        [ 4.5970e-02, -1.9156e-01,  1.0322e+00],\n",
      "        [ 3.3765e-02, -1.9156e-01,  1.0448e+00],\n",
      "        [ 1.8254e-02, -1.9156e-01,  1.0531e+00],\n",
      "        [ 9.5699e-04, -1.9156e-01,  1.0561e+00],\n",
      "        [-1.6434e-02, -1.9156e-01,  1.0537e+00],\n",
      "        [-3.2216e-02, -1.9156e-01,  1.0460e+00],\n",
      "        [-4.4845e-02, -1.9156e-01,  1.0338e+00],\n",
      "        [-5.3084e-02, -1.9156e-01,  1.0183e+00],\n",
      "        [-5.6127e-02, -1.9156e-01,  1.0010e+00],\n",
      "        [-5.3676e-02, -1.9156e-01,  9.8357e-01],\n",
      "        [-4.5970e-02, -1.9156e-01,  9.6778e-01],\n",
      "        [-3.3765e-02, -1.9156e-01,  9.5515e-01],\n",
      "        [-1.8254e-02, -1.9156e-01,  9.4692e-01],\n",
      "        [-9.5700e-04, -1.9156e-01,  9.4388e-01],\n",
      "        [-9.5700e-04, -1.9940e-01,  1.0091e+00],\n",
      "        [-9.5700e-04, -1.8564e-01,  1.0734e+00],\n",
      "        [-9.5700e-04, -1.5176e-01,  1.1297e+00],\n",
      "        [-9.5700e-04, -1.0143e-01,  1.1719e+00],\n",
      "        [ 9.5700e-04,  4.0115e-02,  1.1955e+00],\n",
      "        [ 9.5700e-04, -2.5549e-02,  1.1980e+00],\n",
      "        [ 9.5700e-04, -8.8444e-02,  1.1789e+00],\n",
      "        [ 9.5700e-04, -1.4175e-01,  1.1405e+00],\n",
      "        [ 9.5700e-04, -1.7970e-01,  1.0869e+00],\n",
      "        [ 9.5700e-04, -1.9818e-01,  1.0238e+00],\n",
      "        [ 9.5700e-04, -1.9518e-01,  9.5819e-01],\n",
      "        [ 9.5700e-04, -1.7103e-01,  8.9708e-01],\n",
      "        [ 9.5700e-04, -1.2835e-01,  8.4713e-01],\n",
      "        [ 9.5700e-04, -7.1755e-02,  8.1373e-01],\n",
      "        [-9.5700e-04,  7.3874e-03,  8.0053e-01],\n",
      "        [-9.5700e-04, -5.7781e-02,  8.0894e-01],\n",
      "        [-9.5700e-04, -1.1669e-01,  8.3805e-01],\n",
      "        [-9.5700e-04, -1.6295e-01,  8.8471e-01],\n",
      "        [-9.5700e-04, -1.9155e-01,  9.4387e-01]], device='cuda:0')\n",
      "depth shape:  torch.Size([40, 512, 512, 1])\n",
      "Video saved to output.mp4\n",
      "\n"
     ]
    },
    {
     "name": "stderr",
     "output_type": "stream",
     "text": [
      "  0%|                                                                                                                                                                                                                                     | 0/40 [00:00<?, ?it/s]"
     ]
    },
    {
     "name": "stdout",
     "output_type": "stream",
     "text": [
      "Type: <class 'list'>\n",
      "Length: 2\n",
      "First element type: <class 'torch.Tensor'>\n",
      "Second element type: <class 'list'>\n"
     ]
    },
    {
     "name": "stderr",
     "output_type": "stream",
     "text": [
      "  2%|█████▌                                                                                                                                                                                                                       | 1/40 [00:05<03:44,  5.74s/it]"
     ]
    },
    {
     "name": "stdout",
     "output_type": "stream",
     "text": [
      "Type: <class 'list'>\n",
      "Length: 2\n",
      "First element type: <class 'torch.Tensor'>\n",
      "Second element type: <class 'list'>\n"
     ]
    },
    {
     "name": "stderr",
     "output_type": "stream",
     "text": [
      "  5%|███████████                                                                                                                                                                                                                  | 2/40 [00:09<02:59,  4.72s/it]"
     ]
    },
    {
     "name": "stdout",
     "output_type": "stream",
     "text": [
      "Type: <class 'list'>\n",
      "Length: 2\n",
      "First element type: <class 'torch.Tensor'>\n",
      "Second element type: <class 'list'>\n"
     ]
    },
    {
     "name": "stderr",
     "output_type": "stream",
     "text": [
      "  8%|████████████████▌                                                                                                                                                                                                            | 3/40 [00:14<02:50,  4.62s/it]"
     ]
    },
    {
     "name": "stdout",
     "output_type": "stream",
     "text": [
      "Type: <class 'list'>\n",
      "Length: 2\n",
      "First element type: <class 'torch.Tensor'>\n",
      "Second element type: <class 'list'>\n"
     ]
    },
    {
     "name": "stderr",
     "output_type": "stream",
     "text": [
      " 10%|██████████████████████                                                                                                                                                                                                       | 4/40 [00:18<02:36,  4.34s/it]"
     ]
    },
    {
     "name": "stdout",
     "output_type": "stream",
     "text": [
      "Type: <class 'list'>\n",
      "Length: 2\n",
      "First element type: <class 'torch.Tensor'>\n",
      "Second element type: <class 'list'>\n"
     ]
    },
    {
     "name": "stderr",
     "output_type": "stream",
     "text": [
      " 12%|███████████████████████████▋                                                                                                                                                                                                 | 5/40 [00:22<02:30,  4.29s/it]"
     ]
    },
    {
     "name": "stdout",
     "output_type": "stream",
     "text": [
      "Type: <class 'list'>\n",
      "Length: 2\n",
      "First element type: <class 'torch.Tensor'>\n",
      "Second element type: <class 'list'>\n"
     ]
    },
    {
     "name": "stderr",
     "output_type": "stream",
     "text": [
      " 15%|█████████████████████████████████▏                                                                                                                                                                                           | 6/40 [00:27<02:31,  4.46s/it]"
     ]
    },
    {
     "name": "stdout",
     "output_type": "stream",
     "text": [
      "Type: <class 'list'>\n",
      "Length: 2\n",
      "First element type: <class 'torch.Tensor'>\n",
      "Second element type: <class 'list'>\n"
     ]
    },
    {
     "name": "stderr",
     "output_type": "stream",
     "text": [
      " 18%|██████████████████████████████████████▋                                                                                                                                                                                      | 7/40 [00:31<02:22,  4.31s/it]"
     ]
    },
    {
     "name": "stdout",
     "output_type": "stream",
     "text": [
      "Type: <class 'list'>\n",
      "Length: 2\n",
      "First element type: <class 'torch.Tensor'>\n",
      "Second element type: <class 'list'>\n"
     ]
    },
    {
     "name": "stderr",
     "output_type": "stream",
     "text": [
      " 20%|████████████████████████████████████████████▏                                                                                                                                                                                | 8/40 [00:35<02:15,  4.24s/it]"
     ]
    },
    {
     "name": "stdout",
     "output_type": "stream",
     "text": [
      "Type: <class 'list'>\n",
      "Length: 2\n",
      "First element type: <class 'torch.Tensor'>\n",
      "Second element type: <class 'list'>\n"
     ]
    },
    {
     "name": "stderr",
     "output_type": "stream",
     "text": [
      " 22%|█████████████████████████████████████████████████▋                                                                                                                                                                           | 9/40 [00:39<02:14,  4.35s/it]"
     ]
    },
    {
     "name": "stdout",
     "output_type": "stream",
     "text": [
      "Type: <class 'list'>\n",
      "Length: 2\n",
      "First element type: <class 'torch.Tensor'>\n",
      "Second element type: <class 'list'>\n"
     ]
    },
    {
     "name": "stderr",
     "output_type": "stream",
     "text": [
      " 25%|███████████████████████████████████████████████████████                                                                                                                                                                     | 10/40 [00:44<02:11,  4.37s/it]"
     ]
    },
    {
     "name": "stdout",
     "output_type": "stream",
     "text": [
      "Type: <class 'list'>\n",
      "Length: 2\n",
      "First element type: <class 'torch.Tensor'>\n",
      "Second element type: <class 'list'>\n"
     ]
    },
    {
     "name": "stderr",
     "output_type": "stream",
     "text": [
      " 28%|████████████████████████████████████████████████████████████▌                                                                                                                                                               | 11/40 [00:49<02:12,  4.56s/it]"
     ]
    },
    {
     "name": "stdout",
     "output_type": "stream",
     "text": [
      "Type: <class 'list'>\n",
      "Length: 2\n",
      "First element type: <class 'torch.Tensor'>\n",
      "Second element type: <class 'list'>\n"
     ]
    },
    {
     "name": "stderr",
     "output_type": "stream",
     "text": [
      " 30%|██████████████████████████████████████████████████████████████████                                                                                                                                                          | 12/40 [00:53<02:03,  4.42s/it]"
     ]
    },
    {
     "name": "stdout",
     "output_type": "stream",
     "text": [
      "Type: <class 'list'>\n",
      "Length: 2\n",
      "First element type: <class 'torch.Tensor'>\n",
      "Second element type: <class 'list'>\n"
     ]
    },
    {
     "name": "stderr",
     "output_type": "stream",
     "text": [
      " 32%|███████████████████████████████████████████████████████████████████████▌                                                                                                                                                    | 13/40 [00:57<01:55,  4.29s/it]"
     ]
    },
    {
     "name": "stdout",
     "output_type": "stream",
     "text": [
      "Type: <class 'list'>\n",
      "Length: 2\n",
      "First element type: <class 'torch.Tensor'>\n",
      "Second element type: <class 'list'>\n"
     ]
    },
    {
     "name": "stderr",
     "output_type": "stream",
     "text": [
      " 35%|█████████████████████████████████████████████████████████████████████████████                                                                                                                                               | 14/40 [01:01<01:50,  4.26s/it]"
     ]
    },
    {
     "name": "stdout",
     "output_type": "stream",
     "text": [
      "Type: <class 'list'>\n",
      "Length: 2\n",
      "First element type: <class 'torch.Tensor'>\n",
      "Second element type: <class 'list'>\n"
     ]
    },
    {
     "name": "stderr",
     "output_type": "stream",
     "text": [
      " 38%|██████████████████████████████████████████████████████████████████████████████████▌                                                                                                                                         | 15/40 [01:05<01:45,  4.21s/it]"
     ]
    },
    {
     "name": "stdout",
     "output_type": "stream",
     "text": [
      "Type: <class 'list'>\n",
      "Length: 2\n",
      "First element type: <class 'torch.Tensor'>\n",
      "Second element type: <class 'list'>\n"
     ]
    },
    {
     "name": "stderr",
     "output_type": "stream",
     "text": [
      " 40%|████████████████████████████████████████████████████████████████████████████████████████                                                                                                                                    | 16/40 [01:10<01:43,  4.33s/it]"
     ]
    },
    {
     "name": "stdout",
     "output_type": "stream",
     "text": [
      "Type: <class 'list'>\n",
      "Length: 2\n",
      "First element type: <class 'torch.Tensor'>\n",
      "Second element type: <class 'list'>\n"
     ]
    },
    {
     "name": "stderr",
     "output_type": "stream",
     "text": [
      " 42%|█████████████████████████████████████████████████████████████████████████████████████████████▌                                                                                                                              | 17/40 [01:15<01:43,  4.50s/it]"
     ]
    },
    {
     "name": "stdout",
     "output_type": "stream",
     "text": [
      "Type: <class 'list'>\n",
      "Length: 2\n",
      "First element type: <class 'torch.Tensor'>\n",
      "Second element type: <class 'list'>\n"
     ]
    },
    {
     "name": "stderr",
     "output_type": "stream",
     "text": [
      " 45%|███████████████████████████████████████████████████████████████████████████████████████████████████                                                                                                                         | 18/40 [01:19<01:36,  4.38s/it]"
     ]
    },
    {
     "name": "stdout",
     "output_type": "stream",
     "text": [
      "Type: <class 'list'>\n",
      "Length: 2\n",
      "First element type: <class 'torch.Tensor'>\n",
      "Second element type: <class 'list'>\n"
     ]
    },
    {
     "name": "stderr",
     "output_type": "stream",
     "text": [
      " 48%|████████████████████████████████████████████████████████████████████████████████████████████████████████▌                                                                                                                   | 19/40 [01:23<01:30,  4.30s/it]"
     ]
    },
    {
     "name": "stdout",
     "output_type": "stream",
     "text": [
      "Type: <class 'list'>\n",
      "Length: 2\n",
      "First element type: <class 'torch.Tensor'>\n",
      "Second element type: <class 'list'>\n"
     ]
    },
    {
     "name": "stderr",
     "output_type": "stream",
     "text": [
      " 50%|██████████████████████████████████████████████████████████████████████████████████████████████████████████████                                                                                                              | 20/40 [01:28<01:29,  4.48s/it]"
     ]
    },
    {
     "name": "stdout",
     "output_type": "stream",
     "text": [
      "Type: <class 'list'>\n",
      "Length: 2\n",
      "First element type: <class 'torch.Tensor'>\n",
      "Second element type: <class 'list'>\n"
     ]
    },
    {
     "name": "stderr",
     "output_type": "stream",
     "text": [
      " 52%|███████████████████████████████████████████████████████████████████████████████████████████████████████████████████▌                                                                                                        | 21/40 [01:32<01:22,  4.33s/it]"
     ]
    },
    {
     "name": "stdout",
     "output_type": "stream",
     "text": [
      "Type: <class 'list'>\n",
      "Length: 2\n",
      "First element type: <class 'torch.Tensor'>\n",
      "Second element type: <class 'list'>\n"
     ]
    },
    {
     "name": "stderr",
     "output_type": "stream",
     "text": [
      " 55%|█████████████████████████████████████████████████████████████████████████████████████████████████████████████████████████                                                                                                   | 22/40 [01:36<01:18,  4.39s/it]"
     ]
    },
    {
     "name": "stdout",
     "output_type": "stream",
     "text": [
      "Type: <class 'list'>\n",
      "Length: 2\n",
      "First element type: <class 'torch.Tensor'>\n",
      "Second element type: <class 'list'>\n"
     ]
    },
    {
     "name": "stderr",
     "output_type": "stream",
     "text": [
      " 57%|██████████████████████████████████████████████████████████████████████████████████████████████████████████████████████████████▍                                                                                             | 23/40 [01:40<01:13,  4.33s/it]"
     ]
    },
    {
     "name": "stdout",
     "output_type": "stream",
     "text": [
      "Type: <class 'list'>\n",
      "Length: 2\n",
      "First element type: <class 'torch.Tensor'>\n",
      "Second element type: <class 'list'>\n"
     ]
    },
    {
     "name": "stderr",
     "output_type": "stream",
     "text": [
      " 60%|████████████████████████████████████████████████████████████████████████████████████████████████████████████████████████████████████                                                                                        | 24/40 [01:45<01:08,  4.29s/it]"
     ]
    },
    {
     "name": "stdout",
     "output_type": "stream",
     "text": [
      "Type: <class 'list'>\n",
      "Length: 2\n",
      "First element type: <class 'torch.Tensor'>\n",
      "Second element type: <class 'list'>\n"
     ]
    },
    {
     "name": "stderr",
     "output_type": "stream",
     "text": [
      " 62%|█████████████████████████████████████████████████████████████████████████████████████████████████████████████████████████████████████████▌                                                                                  | 25/40 [01:49<01:02,  4.17s/it]"
     ]
    },
    {
     "name": "stdout",
     "output_type": "stream",
     "text": [
      "Type: <class 'list'>\n",
      "Length: 2\n",
      "First element type: <class 'torch.Tensor'>\n",
      "Second element type: <class 'list'>\n"
     ]
    },
    {
     "name": "stderr",
     "output_type": "stream",
     "text": [
      " 65%|███████████████████████████████████████████████████████████████████████████████████████████████████████████████████████████████████████████████                                                                             | 26/40 [01:53<01:00,  4.33s/it]"
     ]
    },
    {
     "name": "stdout",
     "output_type": "stream",
     "text": [
      "Type: <class 'list'>\n",
      "Length: 2\n",
      "First element type: <class 'torch.Tensor'>\n",
      "Second element type: <class 'list'>\n"
     ]
    },
    {
     "name": "stderr",
     "output_type": "stream",
     "text": [
      " 68%|████████████████████████████████████████████████████████████████████████████████████████████████████████████████████████████████████████████████████▌                                                                       | 27/40 [01:57<00:55,  4.26s/it]"
     ]
    },
    {
     "name": "stdout",
     "output_type": "stream",
     "text": [
      "Type: <class 'list'>\n",
      "Length: 2\n",
      "First element type: <class 'torch.Tensor'>\n",
      "Second element type: <class 'list'>\n"
     ]
    },
    {
     "name": "stderr",
     "output_type": "stream",
     "text": [
      " 70%|██████████████████████████████████████████████████████████████████████████████████████████████████████████████████████████████████████████████████████████                                                                  | 28/40 [02:02<00:51,  4.27s/it]"
     ]
    },
    {
     "name": "stdout",
     "output_type": "stream",
     "text": [
      "Type: <class 'list'>\n",
      "Length: 2\n",
      "First element type: <class 'torch.Tensor'>\n",
      "Second element type: <class 'list'>\n"
     ]
    },
    {
     "name": "stderr",
     "output_type": "stream",
     "text": [
      " 72%|███████████████████████████████████████████████████████████████████████████████████████████████████████████████████████████████████████████████████████████████▌                                                            | 29/40 [02:06<00:46,  4.25s/it]"
     ]
    },
    {
     "name": "stdout",
     "output_type": "stream",
     "text": [
      "Type: <class 'list'>\n",
      "Length: 2\n",
      "First element type: <class 'torch.Tensor'>\n",
      "Second element type: <class 'list'>\n"
     ]
    },
    {
     "name": "stderr",
     "output_type": "stream",
     "text": [
      " 75%|█████████████████████████████████████████████████████████████████████████████████████████████████████████████████████████████████████████████████████████████████████                                                       | 30/40 [02:10<00:42,  4.30s/it]"
     ]
    },
    {
     "name": "stdout",
     "output_type": "stream",
     "text": [
      "Type: <class 'list'>\n",
      "Length: 2\n",
      "First element type: <class 'torch.Tensor'>\n",
      "Second element type: <class 'list'>\n"
     ]
    },
    {
     "name": "stderr",
     "output_type": "stream",
     "text": [
      " 78%|██████████████████████████████████████████████████████████████████████████████████████████████████████████████████████████████████████████████████████████████████████████▌                                                 | 31/40 [02:14<00:37,  4.21s/it]"
     ]
    },
    {
     "name": "stdout",
     "output_type": "stream",
     "text": [
      "Type: <class 'list'>\n",
      "Length: 2\n",
      "First element type: <class 'torch.Tensor'>\n",
      "Second element type: <class 'list'>\n"
     ]
    },
    {
     "name": "stderr",
     "output_type": "stream",
     "text": [
      " 80%|████████████████████████████████████████████████████████████████████████████████████████████████████████████████████████████████████████████████████████████████████████████████                                            | 32/40 [02:19<00:34,  4.35s/it]"
     ]
    },
    {
     "name": "stdout",
     "output_type": "stream",
     "text": [
      "Type: <class 'list'>\n",
      "Length: 2\n",
      "First element type: <class 'torch.Tensor'>\n",
      "Second element type: <class 'list'>\n"
     ]
    },
    {
     "name": "stderr",
     "output_type": "stream",
     "text": [
      " 82%|█████████████████████████████████████████████████████████████████████████████████████████████████████████████████████████████████████████████████████████████████████████████████████▌                                      | 33/40 [02:23<00:29,  4.28s/it]"
     ]
    },
    {
     "name": "stdout",
     "output_type": "stream",
     "text": [
      "Type: <class 'list'>\n",
      "Length: 2\n",
      "First element type: <class 'torch.Tensor'>\n",
      "Second element type: <class 'list'>\n"
     ]
    },
    {
     "name": "stderr",
     "output_type": "stream",
     "text": [
      " 85%|███████████████████████████████████████████████████████████████████████████████████████████████████████████████████████████████████████████████████████████████████████████████████████████                                 | 34/40 [02:28<00:26,  4.41s/it]"
     ]
    },
    {
     "name": "stdout",
     "output_type": "stream",
     "text": [
      "Type: <class 'list'>\n",
      "Length: 2\n",
      "First element type: <class 'torch.Tensor'>\n",
      "Second element type: <class 'list'>\n"
     ]
    },
    {
     "name": "stderr",
     "output_type": "stream",
     "text": [
      " 88%|████████████████████████████████████████████████████████████████████████████████████████████████████████████████████████████████████████████████████████████████████████████████████████████████▌                           | 35/40 [02:32<00:21,  4.29s/it]"
     ]
    },
    {
     "name": "stdout",
     "output_type": "stream",
     "text": [
      "Type: <class 'list'>\n",
      "Length: 2\n",
      "First element type: <class 'torch.Tensor'>\n",
      "Second element type: <class 'list'>\n"
     ]
    },
    {
     "name": "stderr",
     "output_type": "stream",
     "text": [
      " 90%|██████████████████████████████████████████████████████████████████████████████████████████████████████████████████████████████████████████████████████████████████████████████████████████████████████                      | 36/40 [02:36<00:17,  4.29s/it]"
     ]
    },
    {
     "name": "stdout",
     "output_type": "stream",
     "text": [
      "Type: <class 'list'>\n",
      "Length: 2\n",
      "First element type: <class 'torch.Tensor'>\n",
      "Second element type: <class 'list'>\n"
     ]
    },
    {
     "name": "stderr",
     "output_type": "stream",
     "text": [
      " 92%|███████████████████████████████████████████████████████████████████████████████████████████████████████████████████████████████████████████████████████████████████████████████████████████████████████████▌                | 37/40 [02:41<00:13,  4.35s/it]"
     ]
    },
    {
     "name": "stdout",
     "output_type": "stream",
     "text": [
      "Type: <class 'list'>\n",
      "Length: 2\n",
      "First element type: <class 'torch.Tensor'>\n",
      "Second element type: <class 'list'>\n"
     ]
    },
    {
     "name": "stderr",
     "output_type": "stream",
     "text": [
      " 95%|█████████████████████████████████████████████████████████████████████████████████████████████████████████████████████████████████████████████████████████████████████████████████████████████████████████████████           | 38/40 [02:45<00:08,  4.37s/it]"
     ]
    },
    {
     "name": "stdout",
     "output_type": "stream",
     "text": [
      "Type: <class 'list'>\n",
      "Length: 2\n",
      "First element type: <class 'torch.Tensor'>\n",
      "Second element type: <class 'list'>\n"
     ]
    },
    {
     "name": "stderr",
     "output_type": "stream",
     "text": [
      " 98%|██████████████████████████████████████████████████████████████████████████████████████████████████████████████████████████████████████████████████████████████████████████████████████████████████████████████████████▌     | 39/40 [02:49<00:04,  4.34s/it]"
     ]
    },
    {
     "name": "stdout",
     "output_type": "stream",
     "text": [
      "Type: <class 'list'>\n",
      "Length: 2\n",
      "First element type: <class 'torch.Tensor'>\n",
      "Second element type: <class 'list'>\n"
     ]
    },
    {
     "name": "stderr",
     "output_type": "stream",
     "text": [
      "100%|████████████████████████████████████████████████████████████████████████████████████████████████████████████████████████████████████████████████████████████████████████████████████████████████████████████████████████████| 40/40 [02:54<00:00,  4.36s/it]\n"
     ]
    },
    {
     "name": "stdout",
     "output_type": "stream",
     "text": [
      "Number of missing features:  181\n",
      "Copied features from nearest vertices\n",
      "Time taken in mins:  3.0821484963099164\n",
      "Starting batch_render with num_views=20, H=512, W=512\n",
      "Rendering completed successfully\n",
      "Starting batch_render with num_views=20, H=512, W=512\n",
      "Rendering completed successfully\n",
      "batched_renderings shape:  torch.Size([40, 512, 512, 4])\n",
      "normal_batched_renderings shape:  torch.Size([40, 512, 512, 1, 3])\n",
      "camera R: tensor([[[-1.0000e+00,  0.0000e+00,  0.0000e+00],\n",
      "         [ 0.0000e+00,  1.0000e+00,  0.0000e+00],\n",
      "         [ 0.0000e+00,  0.0000e+00, -1.0000e+00]],\n",
      "\n",
      "        [[-9.5106e-01,  0.0000e+00, -3.0902e-01],\n",
      "         [ 0.0000e+00,  1.0000e+00,  0.0000e+00],\n",
      "         [ 3.0902e-01,  0.0000e+00, -9.5106e-01]],\n",
      "\n",
      "        [[-8.0902e-01,  0.0000e+00, -5.8779e-01],\n",
      "         [ 0.0000e+00,  1.0000e+00,  0.0000e+00],\n",
      "         [ 5.8779e-01,  0.0000e+00, -8.0902e-01]],\n",
      "\n",
      "        [[-5.8779e-01,  0.0000e+00, -8.0902e-01],\n",
      "         [ 0.0000e+00,  1.0000e+00,  0.0000e+00],\n",
      "         [ 8.0902e-01,  0.0000e+00, -5.8779e-01]],\n",
      "\n",
      "        [[-3.0902e-01,  0.0000e+00, -9.5106e-01],\n",
      "         [ 0.0000e+00,  1.0000e+00,  0.0000e+00],\n",
      "         [ 9.5106e-01,  0.0000e+00, -3.0902e-01]],\n",
      "\n",
      "        [[ 4.4703e-08,  0.0000e+00, -1.0000e+00],\n",
      "         [-0.0000e+00,  1.0000e+00,  0.0000e+00],\n",
      "         [ 1.0000e+00,  0.0000e+00,  4.4703e-08]],\n",
      "\n",
      "        [[ 3.0902e-01,  0.0000e+00, -9.5106e-01],\n",
      "         [-0.0000e+00,  1.0000e+00,  0.0000e+00],\n",
      "         [ 9.5106e-01,  0.0000e+00,  3.0902e-01]],\n",
      "\n",
      "        [[ 5.8779e-01,  0.0000e+00, -8.0902e-01],\n",
      "         [-0.0000e+00,  1.0000e+00,  0.0000e+00],\n",
      "         [ 8.0902e-01,  0.0000e+00,  5.8779e-01]],\n",
      "\n",
      "        [[ 8.0902e-01,  0.0000e+00, -5.8779e-01],\n",
      "         [-0.0000e+00,  1.0000e+00,  0.0000e+00],\n",
      "         [ 5.8779e-01,  0.0000e+00,  8.0902e-01]],\n",
      "\n",
      "        [[ 9.5106e-01,  0.0000e+00, -3.0902e-01],\n",
      "         [-0.0000e+00,  1.0000e+00,  0.0000e+00],\n",
      "         [ 3.0902e-01,  0.0000e+00,  9.5106e-01]],\n",
      "\n",
      "        [[ 1.0000e+00, -0.0000e+00,  8.7422e-08],\n",
      "         [ 0.0000e+00,  1.0000e+00,  0.0000e+00],\n",
      "         [-8.7422e-08,  0.0000e+00,  1.0000e+00]],\n",
      "\n",
      "        [[ 9.5106e-01, -0.0000e+00,  3.0902e-01],\n",
      "         [ 0.0000e+00,  1.0000e+00,  0.0000e+00],\n",
      "         [-3.0902e-01,  0.0000e+00,  9.5106e-01]],\n",
      "\n",
      "        [[ 8.0902e-01, -0.0000e+00,  5.8779e-01],\n",
      "         [ 0.0000e+00,  1.0000e+00,  0.0000e+00],\n",
      "         [-5.8779e-01,  0.0000e+00,  8.0902e-01]],\n",
      "\n",
      "        [[ 5.8779e-01, -0.0000e+00,  8.0902e-01],\n",
      "         [ 0.0000e+00,  1.0000e+00,  0.0000e+00],\n",
      "         [-8.0902e-01,  0.0000e+00,  5.8779e-01]],\n",
      "\n",
      "        [[ 3.0902e-01, -0.0000e+00,  9.5106e-01],\n",
      "         [ 0.0000e+00,  1.0000e+00,  0.0000e+00],\n",
      "         [-9.5106e-01,  0.0000e+00,  3.0902e-01]],\n",
      "\n",
      "        [[-1.4901e-08,  0.0000e+00,  1.0000e+00],\n",
      "         [ 0.0000e+00,  1.0000e+00,  0.0000e+00],\n",
      "         [-1.0000e+00,  0.0000e+00, -1.4901e-08]],\n",
      "\n",
      "        [[-3.0902e-01,  0.0000e+00,  9.5106e-01],\n",
      "         [ 0.0000e+00,  1.0000e+00,  0.0000e+00],\n",
      "         [-9.5106e-01,  0.0000e+00, -3.0902e-01]],\n",
      "\n",
      "        [[-5.8779e-01,  0.0000e+00,  8.0902e-01],\n",
      "         [ 0.0000e+00,  1.0000e+00,  0.0000e+00],\n",
      "         [-8.0902e-01,  0.0000e+00, -5.8779e-01]],\n",
      "\n",
      "        [[-8.0902e-01,  0.0000e+00,  5.8779e-01],\n",
      "         [ 0.0000e+00,  1.0000e+00,  0.0000e+00],\n",
      "         [-5.8779e-01,  0.0000e+00, -8.0902e-01]],\n",
      "\n",
      "        [[-9.5106e-01,  0.0000e+00,  3.0902e-01],\n",
      "         [ 0.0000e+00,  1.0000e+00,  0.0000e+00],\n",
      "         [-3.0902e-01,  0.0000e+00, -9.5106e-01]],\n",
      "\n",
      "        [[-1.0000e+00,  0.0000e+00,  0.0000e+00],\n",
      "         [ 0.0000e+00,  1.0000e+00, -1.7449e-05],\n",
      "         [-0.0000e+00, -1.7449e-05, -1.0000e+00]],\n",
      "\n",
      "        [[-1.0000e+00,  0.0000e+00,  0.0000e+00],\n",
      "         [ 0.0000e+00,  9.4581e-01, -3.2471e-01],\n",
      "         [-0.0000e+00, -3.2471e-01, -9.4581e-01]],\n",
      "\n",
      "        [[-1.0000e+00,  0.0000e+00,  0.0000e+00],\n",
      "         [ 0.0000e+00,  7.8913e-01, -6.1422e-01],\n",
      "         [-0.0000e+00, -6.1422e-01, -7.8913e-01]],\n",
      "\n",
      "        [[-1.0000e+00,  0.0000e+00,  0.0000e+00],\n",
      "         [ 0.0000e+00,  5.4694e-01, -8.3717e-01],\n",
      "         [-0.0000e+00, -8.3717e-01, -5.4694e-01]],\n",
      "\n",
      "        [[-1.0000e+00,  0.0000e+00,  0.0000e+00],\n",
      "         [ 0.0000e+00,  2.4548e-01, -9.6940e-01],\n",
      "         [-0.0000e+00, -9.6940e-01, -2.4548e-01]],\n",
      "\n",
      "        [[ 1.0000e+00,  0.0000e+00,  0.0000e+00],\n",
      "         [ 0.0000e+00,  8.2588e-02, -9.9658e-01],\n",
      "         [-0.0000e+00,  9.9658e-01,  8.2588e-02]],\n",
      "\n",
      "        [[ 1.0000e+00,  0.0000e+00,  0.0000e+00],\n",
      "         [ 0.0000e+00,  4.0170e-01, -9.1577e-01],\n",
      "         [-0.0000e+00,  9.1577e-01,  4.0170e-01]],\n",
      "\n",
      "        [[ 1.0000e+00,  0.0000e+00,  0.0000e+00],\n",
      "         [ 0.0000e+00,  6.7728e-01, -7.3572e-01],\n",
      "         [-0.0000e+00,  7.3572e-01,  6.7728e-01]],\n",
      "\n",
      "        [[ 1.0000e+00,  0.0000e+00,  0.0000e+00],\n",
      "         [ 0.0000e+00,  8.7947e-01, -4.7595e-01],\n",
      "         [-0.0000e+00,  4.7595e-01,  8.7947e-01]],\n",
      "\n",
      "        [[ 1.0000e+00,  0.0000e+00,  0.0000e+00],\n",
      "         [ 0.0000e+00,  9.8636e-01, -1.6459e-01],\n",
      "         [-0.0000e+00,  1.6459e-01,  9.8636e-01]],\n",
      "\n",
      "        [[ 1.0000e+00,  0.0000e+00,  0.0000e+00],\n",
      "         [-0.0000e+00,  9.8636e-01,  1.6459e-01],\n",
      "         [ 0.0000e+00, -1.6459e-01,  9.8636e-01]],\n",
      "\n",
      "        [[ 1.0000e+00,  0.0000e+00,  0.0000e+00],\n",
      "         [-0.0000e+00,  8.7948e-01,  4.7595e-01],\n",
      "         [ 0.0000e+00, -4.7595e-01,  8.7948e-01]],\n",
      "\n",
      "        [[ 1.0000e+00,  0.0000e+00,  0.0000e+00],\n",
      "         [-0.0000e+00,  6.7728e-01,  7.3572e-01],\n",
      "         [ 0.0000e+00, -7.3572e-01,  6.7728e-01]],\n",
      "\n",
      "        [[ 1.0000e+00,  0.0000e+00,  0.0000e+00],\n",
      "         [-0.0000e+00,  4.0170e-01,  9.1577e-01],\n",
      "         [ 0.0000e+00, -9.1577e-01,  4.0170e-01]],\n",
      "\n",
      "        [[ 1.0000e+00,  0.0000e+00,  0.0000e+00],\n",
      "         [-0.0000e+00,  8.2587e-02,  9.9658e-01],\n",
      "         [ 0.0000e+00, -9.9658e-01,  8.2587e-02]],\n",
      "\n",
      "        [[-1.0000e+00,  0.0000e+00,  0.0000e+00],\n",
      "         [ 0.0000e+00,  2.4548e-01,  9.6940e-01],\n",
      "         [ 0.0000e+00,  9.6940e-01, -2.4548e-01]],\n",
      "\n",
      "        [[-1.0000e+00,  0.0000e+00,  0.0000e+00],\n",
      "         [ 0.0000e+00,  5.4694e-01,  8.3717e-01],\n",
      "         [ 0.0000e+00,  8.3717e-01, -5.4694e-01]],\n",
      "\n",
      "        [[-1.0000e+00,  0.0000e+00,  0.0000e+00],\n",
      "         [ 0.0000e+00,  7.8913e-01,  6.1422e-01],\n",
      "         [ 0.0000e+00,  6.1422e-01, -7.8913e-01]],\n",
      "\n",
      "        [[-1.0000e+00,  0.0000e+00,  0.0000e+00],\n",
      "         [ 0.0000e+00,  9.4581e-01,  3.2471e-01],\n",
      "         [ 0.0000e+00,  3.2471e-01, -9.4581e-01]],\n",
      "\n",
      "        [[-1.0000e+00,  0.0000e+00,  0.0000e+00],\n",
      "         [ 0.0000e+00,  1.0000e+00,  1.7464e-05],\n",
      "         [ 0.0000e+00,  1.7464e-05, -1.0000e+00]]], device='cuda:0')\n",
      "camera T: tensor([[-9.9987e-06, -2.3454e-01,  9.0596e-01],\n",
      "        [ 2.9050e-02, -2.3454e-01,  9.1056e-01],\n",
      "        [ 5.5266e-02, -2.3454e-01,  9.2392e-01],\n",
      "        [ 7.6072e-02, -2.3454e-01,  9.4472e-01],\n",
      "        [ 8.9432e-02, -2.3454e-01,  9.7093e-01],\n",
      "        [ 9.4038e-02, -2.3454e-01,  9.9999e-01],\n",
      "        [ 8.9439e-02, -2.3454e-01,  1.0290e+00],\n",
      "        [ 7.6084e-02, -2.3454e-01,  1.0553e+00],\n",
      "        [ 5.5282e-02, -2.3454e-01,  1.0761e+00],\n",
      "        [ 2.9069e-02, -2.3454e-01,  1.0894e+00],\n",
      "        [ 9.9905e-06, -2.3454e-01,  1.0940e+00],\n",
      "        [-2.9050e-02, -2.3454e-01,  1.0894e+00],\n",
      "        [-5.5266e-02, -2.3454e-01,  1.0761e+00],\n",
      "        [-7.6072e-02, -2.3454e-01,  1.0553e+00],\n",
      "        [-8.9432e-02, -2.3454e-01,  1.0291e+00],\n",
      "        [-9.4038e-02, -2.3454e-01,  1.0000e+00],\n",
      "        [-8.9439e-02, -2.3454e-01,  9.7095e-01],\n",
      "        [-7.6084e-02, -2.3454e-01,  9.4473e-01],\n",
      "        [-5.5282e-02, -2.3454e-01,  9.2393e-01],\n",
      "        [-2.9069e-02, -2.3454e-01,  9.1057e-01],\n",
      "        [-9.9987e-06, -2.3454e-01,  9.0597e-01],\n",
      "        [-9.9987e-06, -2.5236e-01,  9.8722e-01],\n",
      "        [-9.9987e-06, -2.4284e-01,  1.0699e+00],\n",
      "        [-9.9987e-06, -2.0700e-01,  1.1449e+00],\n",
      "        [-9.9987e-06, -1.4873e-01,  1.2043e+00],\n",
      "        [ 9.9987e-06,  7.4347e-02,  1.2415e+00],\n",
      "        [ 9.9987e-06, -8.0967e-03,  1.2526e+00],\n",
      "        [ 9.9987e-06, -8.9663e-02,  1.2362e+00],\n",
      "        [ 9.9987e-06, -1.6151e-01,  1.1943e+00],\n",
      "        [ 9.9987e-06, -2.1586e-01,  1.1314e+00],\n",
      "        [ 9.9987e-06, -2.4682e-01,  1.0542e+00],\n",
      "        [ 9.9987e-06, -2.5103e-01,  9.7108e-01],\n",
      "        [ 9.9987e-06, -2.2803e-01,  8.9114e-01],\n",
      "        [ 9.9987e-06, -1.8033e-01,  8.2299e-01],\n",
      "        [ 9.9987e-06, -1.1309e-01,  7.7403e-01],\n",
      "        [-9.9987e-06,  3.3587e-02,  7.4955e-01],\n",
      "        [-9.9987e-06, -4.9551e-02,  7.5222e-01],\n",
      "        [-9.9987e-06, -1.2732e-01,  7.8173e-01],\n",
      "        [-9.9987e-06, -1.9129e-01,  8.3490e-01],\n",
      "        [-9.9987e-06, -2.3454e-01,  9.0596e-01]], device='cuda:0')\n",
      "depth shape:  torch.Size([40, 512, 512, 1])\n",
      "Video saved to output.mp4\n",
      "\n"
     ]
    },
    {
     "name": "stderr",
     "output_type": "stream",
     "text": [
      "  0%|                                                                                                                                                                                                                                     | 0/40 [00:00<?, ?it/s]"
     ]
    },
    {
     "name": "stdout",
     "output_type": "stream",
     "text": [
      "Type: <class 'list'>\n",
      "Length: 2\n",
      "First element type: <class 'torch.Tensor'>\n",
      "Second element type: <class 'list'>\n"
     ]
    },
    {
     "name": "stderr",
     "output_type": "stream",
     "text": [
      "  2%|█████▌                                                                                                                                                                                                                       | 1/40 [00:05<03:17,  5.07s/it]"
     ]
    },
    {
     "name": "stdout",
     "output_type": "stream",
     "text": [
      "Type: <class 'list'>\n",
      "Length: 2\n",
      "First element type: <class 'torch.Tensor'>\n",
      "Second element type: <class 'list'>\n"
     ]
    },
    {
     "name": "stderr",
     "output_type": "stream",
     "text": [
      "  5%|███████████                                                                                                                                                                                                                  | 2/40 [00:09<02:59,  4.73s/it]"
     ]
    },
    {
     "name": "stdout",
     "output_type": "stream",
     "text": [
      "Type: <class 'list'>\n",
      "Length: 2\n",
      "First element type: <class 'torch.Tensor'>\n",
      "Second element type: <class 'list'>\n"
     ]
    },
    {
     "name": "stderr",
     "output_type": "stream",
     "text": [
      "  8%|████████████████▌                                                                                                                                                                                                            | 3/40 [00:13<02:42,  4.40s/it]"
     ]
    },
    {
     "name": "stdout",
     "output_type": "stream",
     "text": [
      "Type: <class 'list'>\n",
      "Length: 2\n",
      "First element type: <class 'torch.Tensor'>\n",
      "Second element type: <class 'list'>\n"
     ]
    },
    {
     "name": "stderr",
     "output_type": "stream",
     "text": [
      " 10%|██████████████████████                                                                                                                                                                                                       | 4/40 [00:18<02:52,  4.80s/it]"
     ]
    },
    {
     "name": "stdout",
     "output_type": "stream",
     "text": [
      "Type: <class 'list'>\n",
      "Length: 2\n",
      "First element type: <class 'torch.Tensor'>\n",
      "Second element type: <class 'list'>\n"
     ]
    },
    {
     "name": "stderr",
     "output_type": "stream",
     "text": [
      " 12%|███████████████████████████▋                                                                                                                                                                                                 | 5/40 [00:23<02:41,  4.62s/it]"
     ]
    },
    {
     "name": "stdout",
     "output_type": "stream",
     "text": [
      "Type: <class 'list'>\n",
      "Length: 2\n",
      "First element type: <class 'torch.Tensor'>\n",
      "Second element type: <class 'list'>\n"
     ]
    },
    {
     "name": "stderr",
     "output_type": "stream",
     "text": [
      " 15%|█████████████████████████████████▏                                                                                                                                                                                           | 6/40 [00:27<02:37,  4.64s/it]"
     ]
    },
    {
     "name": "stdout",
     "output_type": "stream",
     "text": [
      "Type: <class 'list'>\n",
      "Length: 2\n",
      "First element type: <class 'torch.Tensor'>\n",
      "Second element type: <class 'list'>\n"
     ]
    },
    {
     "name": "stderr",
     "output_type": "stream",
     "text": [
      " 18%|██████████████████████████████████████▋                                                                                                                                                                                      | 7/40 [00:32<02:31,  4.60s/it]"
     ]
    },
    {
     "name": "stdout",
     "output_type": "stream",
     "text": [
      "Type: <class 'list'>\n",
      "Length: 2\n",
      "First element type: <class 'torch.Tensor'>\n",
      "Second element type: <class 'list'>\n"
     ]
    },
    {
     "name": "stderr",
     "output_type": "stream",
     "text": [
      " 20%|████████████████████████████████████████████▏                                                                                                                                                                                | 8/40 [00:36<02:25,  4.53s/it]"
     ]
    },
    {
     "name": "stdout",
     "output_type": "stream",
     "text": [
      "Type: <class 'list'>\n",
      "Length: 2\n",
      "First element type: <class 'torch.Tensor'>\n",
      "Second element type: <class 'list'>\n"
     ]
    },
    {
     "name": "stderr",
     "output_type": "stream",
     "text": [
      " 22%|█████████████████████████████████████████████████▋                                                                                                                                                                           | 9/40 [00:42<02:35,  5.02s/it]"
     ]
    },
    {
     "name": "stdout",
     "output_type": "stream",
     "text": [
      "Type: <class 'list'>\n",
      "Length: 2\n",
      "First element type: <class 'torch.Tensor'>\n",
      "Second element type: <class 'list'>\n"
     ]
    },
    {
     "name": "stderr",
     "output_type": "stream",
     "text": [
      " 25%|███████████████████████████████████████████████████████                                                                                                                                                                     | 10/40 [00:47<02:24,  4.83s/it]"
     ]
    },
    {
     "name": "stdout",
     "output_type": "stream",
     "text": [
      "Type: <class 'list'>\n",
      "Length: 2\n",
      "First element type: <class 'torch.Tensor'>\n",
      "Second element type: <class 'list'>\n"
     ]
    },
    {
     "name": "stderr",
     "output_type": "stream",
     "text": [
      " 28%|████████████████████████████████████████████████████████████▌                                                                                                                                                               | 11/40 [00:52<02:18,  4.79s/it]"
     ]
    },
    {
     "name": "stdout",
     "output_type": "stream",
     "text": [
      "Type: <class 'list'>\n",
      "Length: 2\n",
      "First element type: <class 'torch.Tensor'>\n",
      "Second element type: <class 'list'>\n"
     ]
    },
    {
     "name": "stderr",
     "output_type": "stream",
     "text": [
      " 30%|██████████████████████████████████████████████████████████████████                                                                                                                                                          | 12/40 [00:56<02:10,  4.67s/it]"
     ]
    },
    {
     "name": "stdout",
     "output_type": "stream",
     "text": [
      "Type: <class 'list'>\n",
      "Length: 2\n",
      "First element type: <class 'torch.Tensor'>\n",
      "Second element type: <class 'list'>\n"
     ]
    },
    {
     "name": "stderr",
     "output_type": "stream",
     "text": [
      " 32%|███████████████████████████████████████████████████████████████████████▌                                                                                                                                                    | 13/40 [01:01<02:05,  4.65s/it]"
     ]
    },
    {
     "name": "stdout",
     "output_type": "stream",
     "text": [
      "Type: <class 'list'>\n",
      "Length: 2\n",
      "First element type: <class 'torch.Tensor'>\n",
      "Second element type: <class 'list'>\n"
     ]
    },
    {
     "name": "stderr",
     "output_type": "stream",
     "text": [
      " 35%|█████████████████████████████████████████████████████████████████████████████                                                                                                                                               | 14/40 [01:05<02:00,  4.64s/it]"
     ]
    },
    {
     "name": "stdout",
     "output_type": "stream",
     "text": [
      "Type: <class 'list'>\n",
      "Length: 2\n",
      "First element type: <class 'torch.Tensor'>\n",
      "Second element type: <class 'list'>\n"
     ]
    },
    {
     "name": "stderr",
     "output_type": "stream",
     "text": [
      " 38%|██████████████████████████████████████████████████████████████████████████████████▌                                                                                                                                         | 15/40 [01:09<01:52,  4.50s/it]"
     ]
    },
    {
     "name": "stdout",
     "output_type": "stream",
     "text": [
      "Type: <class 'list'>\n",
      "Length: 2\n",
      "First element type: <class 'torch.Tensor'>\n",
      "Second element type: <class 'list'>\n"
     ]
    },
    {
     "name": "stderr",
     "output_type": "stream",
     "text": [
      " 40%|████████████████████████████████████████████████████████████████████████████████████████                                                                                                                                    | 16/40 [01:14<01:46,  4.44s/it]"
     ]
    },
    {
     "name": "stdout",
     "output_type": "stream",
     "text": [
      "Type: <class 'list'>\n",
      "Length: 2\n",
      "First element type: <class 'torch.Tensor'>\n",
      "Second element type: <class 'list'>\n"
     ]
    },
    {
     "name": "stderr",
     "output_type": "stream",
     "text": [
      " 42%|█████████████████████████████████████████████████████████████████████████████████████████████▌                                                                                                                              | 17/40 [01:18<01:43,  4.52s/it]"
     ]
    },
    {
     "name": "stdout",
     "output_type": "stream",
     "text": [
      "Type: <class 'list'>\n",
      "Length: 2\n",
      "First element type: <class 'torch.Tensor'>\n",
      "Second element type: <class 'list'>\n"
     ]
    },
    {
     "name": "stderr",
     "output_type": "stream",
     "text": [
      " 45%|███████████████████████████████████████████████████████████████████████████████████████████████████                                                                                                                         | 18/40 [01:23<01:38,  4.48s/it]"
     ]
    },
    {
     "name": "stdout",
     "output_type": "stream",
     "text": [
      "Type: <class 'list'>\n",
      "Length: 2\n",
      "First element type: <class 'torch.Tensor'>\n",
      "Second element type: <class 'list'>\n"
     ]
    },
    {
     "name": "stderr",
     "output_type": "stream",
     "text": [
      " 48%|████████████████████████████████████████████████████████████████████████████████████████████████████████▌                                                                                                                   | 19/40 [01:27<01:33,  4.46s/it]"
     ]
    },
    {
     "name": "stdout",
     "output_type": "stream",
     "text": [
      "Type: <class 'list'>\n",
      "Length: 2\n",
      "First element type: <class 'torch.Tensor'>\n",
      "Second element type: <class 'list'>\n"
     ]
    },
    {
     "name": "stderr",
     "output_type": "stream",
     "text": [
      " 50%|██████████████████████████████████████████████████████████████████████████████████████████████████████████████                                                                                                              | 20/40 [01:31<01:27,  4.38s/it]"
     ]
    },
    {
     "name": "stdout",
     "output_type": "stream",
     "text": [
      "Type: <class 'list'>\n",
      "Length: 2\n",
      "First element type: <class 'torch.Tensor'>\n",
      "Second element type: <class 'list'>\n"
     ]
    },
    {
     "name": "stderr",
     "output_type": "stream",
     "text": [
      " 52%|███████████████████████████████████████████████████████████████████████████████████████████████████████████████████▌                                                                                                        | 21/40 [01:36<01:26,  4.54s/it]"
     ]
    },
    {
     "name": "stdout",
     "output_type": "stream",
     "text": [
      "Type: <class 'list'>\n",
      "Length: 2\n",
      "First element type: <class 'torch.Tensor'>\n",
      "Second element type: <class 'list'>\n"
     ]
    },
    {
     "name": "stderr",
     "output_type": "stream",
     "text": [
      " 55%|█████████████████████████████████████████████████████████████████████████████████████████████████████████████████████████                                                                                                   | 22/40 [01:40<01:19,  4.41s/it]"
     ]
    },
    {
     "name": "stdout",
     "output_type": "stream",
     "text": [
      "Type: <class 'list'>\n",
      "Length: 2\n",
      "First element type: <class 'torch.Tensor'>\n",
      "Second element type: <class 'list'>\n"
     ]
    },
    {
     "name": "stderr",
     "output_type": "stream",
     "text": [
      " 57%|██████████████████████████████████████████████████████████████████████████████████████████████████████████████████████████████▍                                                                                             | 23/40 [01:45<01:14,  4.40s/it]"
     ]
    },
    {
     "name": "stdout",
     "output_type": "stream",
     "text": [
      "Type: <class 'list'>\n",
      "Length: 2\n",
      "First element type: <class 'torch.Tensor'>\n",
      "Second element type: <class 'list'>\n"
     ]
    },
    {
     "name": "stderr",
     "output_type": "stream",
     "text": [
      " 60%|████████████████████████████████████████████████████████████████████████████████████████████████████████████████████████████████████                                                                                        | 24/40 [01:49<01:10,  4.40s/it]"
     ]
    },
    {
     "name": "stdout",
     "output_type": "stream",
     "text": [
      "Type: <class 'list'>\n",
      "Length: 2\n",
      "First element type: <class 'torch.Tensor'>\n",
      "Second element type: <class 'list'>\n"
     ]
    },
    {
     "name": "stderr",
     "output_type": "stream",
     "text": [
      " 62%|█████████████████████████████████████████████████████████████████████████████████████████████████████████████████████████████████████████▌                                                                                  | 25/40 [01:53<01:05,  4.37s/it]"
     ]
    },
    {
     "name": "stdout",
     "output_type": "stream",
     "text": [
      "Type: <class 'list'>\n",
      "Length: 2\n",
      "First element type: <class 'torch.Tensor'>\n",
      "Second element type: <class 'list'>\n"
     ]
    },
    {
     "name": "stderr",
     "output_type": "stream",
     "text": [
      " 65%|███████████████████████████████████████████████████████████████████████████████████████████████████████████████████████████████████████████████                                                                             | 26/40 [01:57<00:59,  4.26s/it]"
     ]
    },
    {
     "name": "stdout",
     "output_type": "stream",
     "text": [
      "Type: <class 'list'>\n",
      "Length: 2\n",
      "First element type: <class 'torch.Tensor'>\n",
      "Second element type: <class 'list'>\n"
     ]
    },
    {
     "name": "stderr",
     "output_type": "stream",
     "text": [
      " 68%|████████████████████████████████████████████████████████████████████████████████████████████████████████████████████████████████████████████████████▌                                                                       | 27/40 [02:02<00:55,  4.30s/it]"
     ]
    },
    {
     "name": "stdout",
     "output_type": "stream",
     "text": [
      "Type: <class 'list'>\n",
      "Length: 2\n",
      "First element type: <class 'torch.Tensor'>\n",
      "Second element type: <class 'list'>\n"
     ]
    },
    {
     "name": "stderr",
     "output_type": "stream",
     "text": [
      " 70%|██████████████████████████████████████████████████████████████████████████████████████████████████████████████████████████████████████████████████████████                                                                  | 28/40 [02:06<00:52,  4.39s/it]"
     ]
    },
    {
     "name": "stdout",
     "output_type": "stream",
     "text": [
      "Type: <class 'list'>\n",
      "Length: 2\n",
      "First element type: <class 'torch.Tensor'>\n",
      "Second element type: <class 'list'>\n"
     ]
    },
    {
     "name": "stderr",
     "output_type": "stream",
     "text": [
      " 72%|███████████████████████████████████████████████████████████████████████████████████████████████████████████████████████████████████████████████████████████████▌                                                            | 29/40 [02:10<00:46,  4.27s/it]"
     ]
    },
    {
     "name": "stdout",
     "output_type": "stream",
     "text": [
      "Type: <class 'list'>\n",
      "Length: 2\n",
      "First element type: <class 'torch.Tensor'>\n",
      "Second element type: <class 'list'>\n"
     ]
    },
    {
     "name": "stderr",
     "output_type": "stream",
     "text": [
      " 75%|█████████████████████████████████████████████████████████████████████████████████████████████████████████████████████████████████████████████████████████████████████                                                       | 30/40 [02:15<00:42,  4.22s/it]"
     ]
    },
    {
     "name": "stdout",
     "output_type": "stream",
     "text": [
      "Type: <class 'list'>\n",
      "Length: 2\n",
      "First element type: <class 'torch.Tensor'>\n",
      "Second element type: <class 'list'>\n"
     ]
    },
    {
     "name": "stderr",
     "output_type": "stream",
     "text": [
      " 78%|██████████████████████████████████████████████████████████████████████████████████████████████████████████████████████████████████████████████████████████████████████████▌                                                 | 31/40 [02:19<00:38,  4.27s/it]"
     ]
    },
    {
     "name": "stdout",
     "output_type": "stream",
     "text": [
      "Type: <class 'list'>\n",
      "Length: 2\n",
      "First element type: <class 'torch.Tensor'>\n",
      "Second element type: <class 'list'>\n"
     ]
    },
    {
     "name": "stderr",
     "output_type": "stream",
     "text": [
      " 80%|████████████████████████████████████████████████████████████████████████████████████████████████████████████████████████████████████████████████████████████████████████████████                                            | 32/40 [02:23<00:34,  4.25s/it]"
     ]
    },
    {
     "name": "stdout",
     "output_type": "stream",
     "text": [
      "Type: <class 'list'>\n",
      "Length: 2\n",
      "First element type: <class 'torch.Tensor'>\n",
      "Second element type: <class 'list'>\n"
     ]
    },
    {
     "name": "stderr",
     "output_type": "stream",
     "text": [
      " 82%|█████████████████████████████████████████████████████████████████████████████████████████████████████████████████████████████████████████████████████████████████████████████████████▌                                      | 33/40 [02:27<00:29,  4.24s/it]"
     ]
    },
    {
     "name": "stdout",
     "output_type": "stream",
     "text": [
      "Type: <class 'list'>\n",
      "Length: 2\n",
      "First element type: <class 'torch.Tensor'>\n",
      "Second element type: <class 'list'>\n"
     ]
    },
    {
     "name": "stderr",
     "output_type": "stream",
     "text": [
      " 85%|███████████████████████████████████████████████████████████████████████████████████████████████████████████████████████████████████████████████████████████████████████████████████████████                                 | 34/40 [02:31<00:25,  4.20s/it]"
     ]
    },
    {
     "name": "stdout",
     "output_type": "stream",
     "text": [
      "Type: <class 'list'>\n",
      "Length: 2\n",
      "First element type: <class 'torch.Tensor'>\n",
      "Second element type: <class 'list'>\n"
     ]
    },
    {
     "name": "stderr",
     "output_type": "stream",
     "text": [
      " 88%|████████████████████████████████████████████████████████████████████████████████████████████████████████████████████████████████████████████████████████████████████████████████████████████████▌                           | 35/40 [02:36<00:21,  4.26s/it]"
     ]
    },
    {
     "name": "stdout",
     "output_type": "stream",
     "text": [
      "Type: <class 'list'>\n",
      "Length: 2\n",
      "First element type: <class 'torch.Tensor'>\n",
      "Second element type: <class 'list'>\n"
     ]
    },
    {
     "name": "stderr",
     "output_type": "stream",
     "text": [
      " 90%|██████████████████████████████████████████████████████████████████████████████████████████████████████████████████████████████████████████████████████████████████████████████████████████████████████                      | 36/40 [02:40<00:17,  4.30s/it]"
     ]
    },
    {
     "name": "stdout",
     "output_type": "stream",
     "text": [
      "Type: <class 'list'>\n",
      "Length: 2\n",
      "First element type: <class 'torch.Tensor'>\n",
      "Second element type: <class 'list'>\n"
     ]
    },
    {
     "name": "stderr",
     "output_type": "stream",
     "text": [
      " 92%|███████████████████████████████████████████████████████████████████████████████████████████████████████████████████████████████████████████████████████████████████████████████████████████████████████████▌                | 37/40 [02:44<00:12,  4.27s/it]"
     ]
    },
    {
     "name": "stdout",
     "output_type": "stream",
     "text": [
      "Type: <class 'list'>\n",
      "Length: 2\n",
      "First element type: <class 'torch.Tensor'>\n",
      "Second element type: <class 'list'>\n"
     ]
    },
    {
     "name": "stderr",
     "output_type": "stream",
     "text": [
      " 95%|█████████████████████████████████████████████████████████████████████████████████████████████████████████████████████████████████████████████████████████████████████████████████████████████████████████████████           | 38/40 [02:49<00:08,  4.31s/it]"
     ]
    },
    {
     "name": "stdout",
     "output_type": "stream",
     "text": [
      "Type: <class 'list'>\n",
      "Length: 2\n",
      "First element type: <class 'torch.Tensor'>\n",
      "Second element type: <class 'list'>\n"
     ]
    },
    {
     "name": "stderr",
     "output_type": "stream",
     "text": [
      " 98%|██████████████████████████████████████████████████████████████████████████████████████████████████████████████████████████████████████████████████████████████████████████████████████████████████████████████████████▌     | 39/40 [02:53<00:04,  4.39s/it]"
     ]
    },
    {
     "name": "stdout",
     "output_type": "stream",
     "text": [
      "Type: <class 'list'>\n",
      "Length: 2\n",
      "First element type: <class 'torch.Tensor'>\n",
      "Second element type: <class 'list'>\n"
     ]
    },
    {
     "name": "stderr",
     "output_type": "stream",
     "text": [
      "100%|████████████████████████████████████████████████████████████████████████████████████████████████████████████████████████████████████████████████████████████████████████████████████████████████████████████████████████████| 40/40 [02:58<00:00,  4.45s/it]"
     ]
    },
    {
     "name": "stdout",
     "output_type": "stream",
     "text": [
      "Number of missing features:  0\n",
      "Copied features from nearest vertices\n",
      "Time taken in mins:  3.096793059508006\n"
     ]
    },
    {
     "name": "stderr",
     "output_type": "stream",
     "text": [
      "\n"
     ]
    }
   ],
   "source": [
    "source_file_path = \"meshes/cat.off\"\n",
    "target_file_path = \"meshes/lion.off\"\n",
    "source_mesh = MeshContainer().load_from_file(source_file_path)\n",
    "target_mesh = MeshContainer().load_from_file(target_file_path)\n",
    "f_source = compute_features(device, pipe, dino_model, source_mesh, \"cat\")\n",
    "f_target = compute_features(device, pipe, dino_model, target_mesh, \"lion\")"
   ]
  },
  {
   "cell_type": "code",
   "execution_count": 11,
   "metadata": {},
   "outputs": [
    {
     "data": {
      "application/vnd.jupyter.widget-view+json": {
       "model_id": "1747b433363c4b058e48f168ff317d9b",
       "version_major": 2,
       "version_minor": 0
      },
      "text/plain": [
       "HBox(children=(Output(), Output()))"
      ]
     },
     "metadata": {},
     "output_type": "display_data"
    },
    {
     "data": {
      "application/vnd.jupyter.widget-view+json": {
       "model_id": "dca25394babe429cbdb1262caf5f9a7f",
       "version_major": 2,
       "version_minor": 0
      },
      "text/plain": [
       "HBox(children=(Output(), Output()))"
      ]
     },
     "metadata": {},
     "output_type": "display_data"
    }
   ],
   "source": [
    "s = cosine_similarity(f_source.to(device),f_target.to(device))\n",
    "s = torch.argmax(s, dim=0).cpu().numpy()\n",
    "cmap_source = get_colors(source_mesh.vert); cmap_target = cmap_source[s]\n",
    "double_plot(source_mesh,target_mesh,cmap_source,cmap_target)  "
   ]
  },
  {
   "cell_type": "code",
   "execution_count": 12,
   "metadata": {},
   "outputs": [
    {
     "name": "stdout",
     "output_type": "stream",
     "text": [
      "mesh1 (7207, 3)\n",
      "mesh2 (5000, 3)\n",
      "\n",
      "Computing Laplacian spectrum\n",
      "Computing 200 eigenvectors\n",
      "\tDone in 10.26 s\n",
      "Computing 200 eigenvectors\n",
      "\tDone in 6.86 s\n",
      "\n",
      "Computing descriptors\n",
      "\tNormalizing descriptors\n",
      "\n",
      "\t256 out of 2048 possible descriptors kept\n",
      "Computing commutativity operators\n",
      "\tScaling LBO commutativity weight by 8.5e-10\n",
      "\n",
      "Optimization :\n",
      "\t50 Ev on source - 50 Ev on Target\n",
      "\tUsing 256 Descriptors\n",
      "\tHyperparameters :\n",
      "\t\tDescriptors preservation :1.0e+00\n",
      "\t\tDescriptors commutativity :1.0e-01\n",
      "\t\tLaplacian commutativity :1.0e-02\n",
      "\t\tOrientation preservation :0.0e+00\n",
      "\n",
      "\tTask : CONVERGENCE: REL_REDUCTION_OF_F_<=_FACTR*EPSMCH, funcall : 56, nit : 51, warnflag : 0\n",
      "\tDone in 9.70 seconds\n"
     ]
    }
   ],
   "source": [
    "surface_map = compute_surface_map(source_file_path, target_file_path, f_source.numpy(), f_target.numpy())"
   ]
  },
  {
   "cell_type": "code",
   "execution_count": 13,
   "metadata": {},
   "outputs": [
    {
     "data": {
      "application/vnd.jupyter.widget-view+json": {
       "model_id": "2c334c6aa7cd49e8b8e926496c705468",
       "version_major": 2,
       "version_minor": 0
      },
      "text/plain": [
       "HBox(children=(Output(), Output()))"
      ]
     },
     "metadata": {},
     "output_type": "display_data"
    },
    {
     "data": {
      "application/vnd.jupyter.widget-view+json": {
       "model_id": "cec54672962647379728df266543e270",
       "version_major": 2,
       "version_minor": 0
      },
      "text/plain": [
       "HBox(children=(Output(), Output()))"
      ]
     },
     "metadata": {},
     "output_type": "display_data"
    }
   ],
   "source": [
    "cmap_source = get_colors(source_mesh.vert); cmap_target = cmap_source[surface_map.cpu().numpy()]\n",
    "double_plot(source_mesh,target_mesh,cmap_source,cmap_target)  "
   ]
  },
  {
   "cell_type": "markdown",
   "metadata": {},
   "source": [
    "# Part segmentation"
   ]
  },
  {
   "cell_type": "code",
   "execution_count": 14,
   "metadata": {},
   "outputs": [],
   "source": [
    "from sklearn.cluster import KMeans\n",
    "import numpy as np\n",
    "\n",
    "k = 6\n",
    "\n",
    "kmeans = KMeans(n_clusters=k, random_state=0, n_init=\"auto\").fit(f_source)\n",
    "\n",
    "segments1 = kmeans.predict(f_source)\n",
    "\n",
    "# Apply centroids on another mesh to segment it in a corresponding manner\n",
    "segments2 = kmeans.predict(f_target)"
   ]
  },
  {
   "cell_type": "code",
   "execution_count": 15,
   "metadata": {},
   "outputs": [],
   "source": [
    "segment_colors = generate_colors(k)\n",
    "cmap_source = np.array([segment_colors[j] for j in segments1])\n",
    "cmap_target = np.array([segment_colors[j] for j in segments2])"
   ]
  },
  {
   "cell_type": "code",
   "execution_count": 16,
   "metadata": {},
   "outputs": [
    {
     "data": {
      "application/vnd.jupyter.widget-view+json": {
       "model_id": "7207ce5319ad4663ad3b651769e38b11",
       "version_major": 2,
       "version_minor": 0
      },
      "text/plain": [
       "HBox(children=(Output(), Output()))"
      ]
     },
     "metadata": {},
     "output_type": "display_data"
    },
    {
     "data": {
      "application/vnd.jupyter.widget-view+json": {
       "model_id": "51fc5341d95646b294c6721d6c9160d5",
       "version_major": 2,
       "version_minor": 0
      },
      "text/plain": [
       "HBox(children=(Output(), Output()))"
      ]
     },
     "metadata": {},
     "output_type": "display_data"
    }
   ],
   "source": [
    "double_plot(source_mesh,target_mesh,cmap_source,cmap_target)  "
   ]
  },
  {
   "cell_type": "code",
   "execution_count": 17,
   "metadata": {},
   "outputs": [
    {
     "name": "stdout",
     "output_type": "stream",
     "text": [
      "Rendering complete\n"
     ]
    },
    {
     "name": "stderr",
     "output_type": "stream",
     "text": [
      "100%|██████████████████████████████████████████████████████████████████████████████████████████████████████████████████████████████████| 100/100 [03:24<00:00,  2.04s/it]\n"
     ]
    },
    {
     "name": "stdout",
     "output_type": "stream",
     "text": [
      "Number of missing features:  3\n",
      "Copied features from nearest vertices\n",
      "Time taken in mins:  3.526184153556824\n",
      "Rendering complete\n"
     ]
    },
    {
     "name": "stderr",
     "output_type": "stream",
     "text": [
      "100%|██████████████████████████████████████████████████████████████████████████████████████████████████████████████████████████████████| 100/100 [03:25<00:00,  2.06s/it]"
     ]
    },
    {
     "name": "stdout",
     "output_type": "stream",
     "text": [
      "Number of missing features:  140\n",
      "Copied features from nearest vertices\n",
      "Time taken in mins:  3.5948370456695558\n"
     ]
    },
    {
     "name": "stderr",
     "output_type": "stream",
     "text": [
      "\n"
     ]
    }
   ],
   "source": [
    "source_file_path = \"meshes/posed_human.off\"\n",
    "target_file_path = \"meshes/cat.off\"\n",
    "source_mesh = MeshContainer().load_from_file(source_file_path)\n",
    "target_mesh = MeshContainer().load_from_file(target_file_path)\n",
    "f_source = compute_features(device, pipe, dino_model, source_mesh, \"naked human\")\n",
    "f_target = compute_features(device, pipe, dino_model, target_mesh, \"cat\")"
   ]
  },
  {
   "cell_type": "code",
   "execution_count": 18,
   "metadata": {},
   "outputs": [],
   "source": [
    "k = 6\n",
    "\n",
    "kmeans = KMeans(n_clusters=k, random_state=0, n_init=\"auto\").fit(f_source)\n",
    "\n",
    "segments1 = kmeans.predict(f_source)\n",
    "\n",
    "# Apply centroids on another mesh to segment it in a corresponding manner\n",
    "\n",
    "segments2 = kmeans.predict(f_target)\n",
    "segment_colors = generate_colors(k)\n",
    "cmap_source = np.array([segment_colors[j] for j in segments1])\n",
    "cmap_target = np.array([segment_colors[j] for j in segments2])"
   ]
  },
  {
   "cell_type": "code",
   "execution_count": 19,
   "metadata": {},
   "outputs": [
    {
     "data": {
      "application/vnd.jupyter.widget-view+json": {
       "model_id": "46b86af40cce4aa08bd2c3936dd9f939",
       "version_major": 2,
       "version_minor": 0
      },
      "text/plain": [
       "HBox(children=(Output(), Output()))"
      ]
     },
     "metadata": {},
     "output_type": "display_data"
    },
    {
     "data": {
      "application/vnd.jupyter.widget-view+json": {
       "model_id": "fa46a4004e1746c7a38c770543af02f7",
       "version_major": 2,
       "version_minor": 0
      },
      "text/plain": [
       "HBox(children=(Output(), Output()))"
      ]
     },
     "metadata": {},
     "output_type": "display_data"
    }
   ],
   "source": [
    "double_plot(source_mesh,target_mesh,cmap_source,cmap_target)  "
   ]
  }
 ],
 "metadata": {
  "kernelspec": {
   "display_name": "Python 3 (ipykernel)",
   "language": "python",
   "name": "python3"
  },
  "language_info": {
   "codemirror_mode": {
    "name": "ipython",
    "version": 3
   },
   "file_extension": ".py",
   "mimetype": "text/x-python",
   "name": "python",
   "nbconvert_exporter": "python",
   "pygments_lexer": "ipython3",
   "version": "3.10.16"
  }
 },
 "nbformat": 4,
 "nbformat_minor": 4
}
